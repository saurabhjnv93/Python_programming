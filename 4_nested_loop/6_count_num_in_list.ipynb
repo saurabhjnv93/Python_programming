{
 "cells": [
  {
   "cell_type": "code",
   "execution_count": null,
   "metadata": {},
   "outputs": [],
   "source": [
    "# Given a list of numbers, find out how many times each number occurs in the list."
   ]
  },
  {
   "cell_type": "code",
   "execution_count": 2,
   "metadata": {},
   "outputs": [
    {
     "name": "stdout",
     "output_type": "stream",
     "text": [
      "1 occurs 2 times in the list_num.\n",
      "2 occurs 3 times in the list_num.\n",
      "3 occurs 4 times in the list_num.\n",
      "4 occurs 5 times in the list_num.\n",
      "5 occurs 6 times in the list_num.\n",
      "0 occurs 3 times in the list_num.\n",
      "-9 occurs 3 times in the list_num.\n",
      "-7 occurs 3 times in the list_num.\n",
      "-6 occurs 1 times in the list_num.\n"
     ]
    }
   ],
   "source": [
    "list_num=[1,1,2,2,2,3,3,3,3,4,4,4,4,4,5,5,5,5,5,5,0,0,0,-9,-9,-9,-7,-7,-7,-6]\n",
    "\n",
    "checked_list=[]# Initialise a list so that I can append checked elements.\n",
    " \n",
    "for ele in list_num:\n",
    "    \n",
    "    if ele not in checked_list:# This block of code will execute only if it not in the checked list.\n",
    "        count=0\n",
    "        for i in list_num:\n",
    "            if ele==i:\n",
    "                count+=1\n",
    "        checked_list.append(ele)# Appending the checked elements into the checked list.\n",
    "        print(ele,\"occurs\",count,'times in the list_num.')"
   ]
  }
 ],
 "metadata": {
  "kernelspec": {
   "display_name": "Python 3",
   "language": "python",
   "name": "python3"
  },
  "language_info": {
   "codemirror_mode": {
    "name": "ipython",
    "version": 3
   },
   "file_extension": ".py",
   "mimetype": "text/x-python",
   "name": "python",
   "nbconvert_exporter": "python",
   "pygments_lexer": "ipython3",
   "version": "3.12.0"
  }
 },
 "nbformat": 4,
 "nbformat_minor": 2
}
