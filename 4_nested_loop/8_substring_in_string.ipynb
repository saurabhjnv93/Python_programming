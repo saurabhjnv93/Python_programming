{
 "cells": [
  {
   "cell_type": "code",
   "execution_count": null,
   "metadata": {},
   "outputs": [],
   "source": [
    "# Given a string input, find out if it contains a particular substring."
   ]
  },
  {
   "cell_type": "code",
   "execution_count": 5,
   "metadata": {},
   "outputs": [],
   "source": [
    "# define a function to check a particular substrting..\n",
    "def func_substr(str__1):\n",
    "    # Asking the input of a substring to be checked...\n",
    "    substring=input(\"Enter any substring...\")\n",
    "    # Checking for the substring using coditional statements..\n",
    "    if substring in str__1:\n",
    "        return \"Yes it contains.\"\n",
    "    else:\n",
    "        return \"No, it don't contains\""
   ]
  }
 ],
 "metadata": {
  "kernelspec": {
   "display_name": "Python 3",
   "language": "python",
   "name": "python3"
  },
  "language_info": {
   "codemirror_mode": {
    "name": "ipython",
    "version": 3
   },
   "file_extension": ".py",
   "mimetype": "text/x-python",
   "name": "python",
   "nbconvert_exporter": "python",
   "pygments_lexer": "ipython3",
   "version": "3.12.0"
  }
 },
 "nbformat": 4,
 "nbformat_minor": 2
}
