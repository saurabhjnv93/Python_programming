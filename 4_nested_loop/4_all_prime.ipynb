{
 "cells": [
  {
   "cell_type": "code",
   "execution_count": null,
   "metadata": {},
   "outputs": [],
   "source": [
    "# Given a positive integer, find out all prime numbers from 1 up to this number."
   ]
  },
  {
   "cell_type": "code",
   "execution_count": 2,
   "metadata": {},
   "outputs": [
    {
     "name": "stdout",
     "output_type": "stream",
     "text": [
      "List of prime numbers from 1 upto 50 is: [2, 3, 5, 7, 11, 13, 17, 19, 23, 29, 31, 37, 41, 43, 47]\n"
     ]
    }
   ],
   "source": [
    "pos_num=int(input(\"Enter a number:\"))\n",
    "\n",
    "list_prime=[]\n",
    "# Start countining from 2 because it is the smallest prime number.\n",
    "for x in range(2,pos_num+1):\n",
    "    \n",
    "    count=0\n",
    "    a=int((x)**0.5)+1\n",
    "    # This for loop will check for prime.\n",
    "    for i in range(2,a):\n",
    "        if x%i==0:\n",
    "            count+=1\n",
    "    if count==0: # If prime, append that integer into new list.\n",
    "        list_prime.append(x)\n",
    "print(\"List of prime numbers from 1 upto\",pos_num,\"is:\",list_prime)\n",
    "        "
   ]
  }
 ],
 "metadata": {
  "kernelspec": {
   "display_name": "Python 3",
   "language": "python",
   "name": "python3"
  },
  "language_info": {
   "codemirror_mode": {
    "name": "ipython",
    "version": 3
   },
   "file_extension": ".py",
   "mimetype": "text/x-python",
   "name": "python",
   "nbconvert_exporter": "python",
   "pygments_lexer": "ipython3",
   "version": "3.12.0"
  }
 },
 "nbformat": 4,
 "nbformat_minor": 2
}
