{
 "cells": [
  {
   "cell_type": "code",
   "execution_count": null,
   "metadata": {},
   "outputs": [],
   "source": [
    "# Given a list of positive integers, find the factorial of all the numbers."
   ]
  },
  {
   "cell_type": "code",
   "execution_count": 1,
   "metadata": {},
   "outputs": [
    {
     "name": "stdout",
     "output_type": "stream",
     "text": [
      "List of the factorial of the given numbers: [1, 2, 6, 24]\n"
     ]
    }
   ],
   "source": [
    "# Sample list..\n",
    "list_poNum=[1,2,3,4]\n",
    "new_list=[]\n",
    "# Itrationg elements of the list using for loop..\n",
    "for ele in list_poNum:\n",
    "        fact=1\n",
    "        for i in range(2,ele+1):# This for loop gives factorial of element one by one.\n",
    "            fact*=i\n",
    "        # append the factorial of the number at their cooresponding indices.\n",
    "        new_list.append(fact)\n",
    "print(\"List of the factorial of the given numbers:\",new_list)"
   ]
  }
 ],
 "metadata": {
  "kernelspec": {
   "display_name": "Python 3",
   "language": "python",
   "name": "python3"
  },
  "language_info": {
   "codemirror_mode": {
    "name": "ipython",
    "version": 3
   },
   "file_extension": ".py",
   "mimetype": "text/x-python",
   "name": "python",
   "nbconvert_exporter": "python",
   "pygments_lexer": "ipython3",
   "version": "3.12.0"
  }
 },
 "nbformat": 4,
 "nbformat_minor": 2
}
