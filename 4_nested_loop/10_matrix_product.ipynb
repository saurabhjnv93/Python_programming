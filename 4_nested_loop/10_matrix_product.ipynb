{
 "cells": [
  {
   "cell_type": "code",
   "execution_count": null,
   "metadata": {},
   "outputs": [],
   "source": [
    "# Given two 3x3 matrices with values stored in two lists of length 9, find their product."
   ]
  },
  {
   "cell_type": "code",
   "execution_count": 4,
   "metadata": {},
   "outputs": [
    {
     "name": "stdout",
     "output_type": "stream",
     "text": [
      "Product of matrices m1 and m2 is : \n",
      "[6, 6, 6]\n",
      "[15, 15, 15]\n",
      "[24, 24, 24]\n"
     ]
    }
   ],
   "source": [
    "# Create to matrix using list..\n",
    "m1=[1,2,3,4,5,6,7,8,9]\n",
    "m2=[1,1,1,1,1,1,1,1,1]\n",
    "# Initialise an empty list to store the product of the both matrices..\n",
    "m1_into_m2=[[0,0,0],[0,0,0],[0,0,0]]\n",
    "\n",
    "# To multiply two matrices of 3*3 we have to multiply row of the first matrix with the column \n",
    "# of the second matrix and we have to do this 9 times so i used three for loop for the lenght of 3.\n",
    "# It will give the elements of the m1*m2..\n",
    "\n",
    "for i in range(3):    \n",
    "    for j in range(3):\n",
    "        for k in range(3):\n",
    "    # This will multiply the corresponding elements and add these to get the elements of  the resultant matrix\n",
    "            m1_into_m2[i][j]+=m1[i*3+k]*m2[k*3+j]\n",
    "print(\"Product of matrices m1 and m2 is : \")\n",
    "# Itrate through the list we initialise to store product..\n",
    "for i in m1_into_m2:\n",
    "    print(i)"
   ]
  },
  {
   "cell_type": "markdown",
   "metadata": {},
   "source": [
    "# Method 2"
   ]
  },
  {
   "cell_type": "code",
   "execution_count": 1,
   "metadata": {},
   "outputs": [
    {
     "name": "stdout",
     "output_type": "stream",
     "text": [
      "Product of matrices is: [[1, 2, 3], [4, 5, 6], [7, 8, 9]]\n"
     ]
    }
   ],
   "source": [
    "m_1=[[1,0,0],[0,1,0],[0,0,1]]\n",
    "m_2=[[1,2,3],[4,5,6],[7,8,9]]\n",
    "list=[]# Initate a empty list so that I can append each row new matrix.\n",
    "#Itrate elements from the m_2.\n",
    "for ele_1 in m_1:\n",
    "    b=0\n",
    "    new_list=[]# Initiate a list so that I can append all row elements in it .\n",
    "    # Run a loop 3 times so that first element get multiply with the all elements of m_2.\n",
    "    for i in range(len(m_2[0])):\n",
    "\n",
    "        a=0\n",
    "        sum=0\n",
    "        # Itrate each elements of the m_2.\n",
    "        for ele_2 in m_2:\n",
    "                \n",
    "                pro=ele_1[a]*ele_2[b]\n",
    "                sum=sum+pro\n",
    "                a+=1\n",
    "        new_list.append(sum)# Append rows elements of the new  matrix.\n",
    "        b=b+1\n",
    "    list.append(new_list)# Append all rows of the new matrix.   \n",
    "print(\"Product of matrices is:\",list)"
   ]
  }
 ],
 "metadata": {
  "kernelspec": {
   "display_name": "Python 3",
   "language": "python",
   "name": "python3"
  },
  "language_info": {
   "codemirror_mode": {
    "name": "ipython",
    "version": 3
   },
   "file_extension": ".py",
   "mimetype": "text/x-python",
   "name": "python",
   "nbconvert_exporter": "python",
   "pygments_lexer": "ipython3",
   "version": "3.12.0"
  }
 },
 "nbformat": 4,
 "nbformat_minor": 2
}
