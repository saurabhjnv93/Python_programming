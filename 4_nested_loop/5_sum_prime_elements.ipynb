{
 "cells": [
  {
   "cell_type": "code",
   "execution_count": 3,
   "metadata": {},
   "outputs": [],
   "source": [
    "# Given a positive integers, find out the sum of all prime numbers from 1 up to this number."
   ]
  },
  {
   "cell_type": "code",
   "execution_count": 5,
   "metadata": {},
   "outputs": [
    {
     "name": "stdout",
     "output_type": "stream",
     "text": [
      "Sum of all prime numbers from 1 upto 10 is: 17\n"
     ]
    }
   ],
   "source": [
    "# User input..\n",
    "num3=int(input(\"Enter a positive integer:\"))\n",
    "sum_prime=0\n",
    "# Itrate all number till the number user entered..\n",
    "for x in range(2,num3+1):# Start itration from 2 because 2 is the smallest prime number.\n",
    "    # Checking for the prime numbers..\n",
    "    d=int((x)**0.5)+1\n",
    "    count=0\n",
    "    for i in range(2,d):\n",
    "        if x%i==0:\n",
    "           count+=1\n",
    "    # If prime, add all those and storing into sum_prime variable..\n",
    "    if count==0:\n",
    "        sum_prime+=x\n",
    "print(\"Sum of all prime numbers from 1 upto\",num3,\"is:\", sum_prime) "
   ]
  }
 ],
 "metadata": {
  "kernelspec": {
   "display_name": "Python 3",
   "language": "python",
   "name": "python3"
  },
  "language_info": {
   "codemirror_mode": {
    "name": "ipython",
    "version": 3
   },
   "file_extension": ".py",
   "mimetype": "text/x-python",
   "name": "python",
   "nbconvert_exporter": "python",
   "pygments_lexer": "ipython3",
   "version": "3.12.0"
  }
 },
 "nbformat": 4,
 "nbformat_minor": 2
}
