{
 "cells": [
  {
   "cell_type": "code",
   "execution_count": 1,
   "metadata": {},
   "outputs": [],
   "source": [
    "# Given a list of integers, find all pairs of integers in the list whose sum is zero."
   ]
  },
  {
   "cell_type": "code",
   "execution_count": 32,
   "metadata": {},
   "outputs": [
    {
     "name": "stdout",
     "output_type": "stream",
     "text": [
      "Pair of numbers whose sum is zero:  [(1, -1), (3, -3), (5, -5), (7, -7), (9, -9), (0, 0)]\n"
     ]
    }
   ],
   "source": [
    "list_special=[1,2,3,4,5,6,7,8,9,-1,-3,-1,-5,-7,-9,0,0,0]\n",
    "\n",
    "list_required=[]# It will store the pairs whose sum is will be zero.\n",
    "\n",
    "for i in range(len(list_special)):\n",
    "        \n",
    "        for j in range(i+1,len(list_special)):\n",
    "            # checking for the sum of two elements to be zero..\n",
    "            if list_special[i]+list_special[j]==0:\n",
    "                # If sum is zero append both numbers into the list required..\n",
    "                pair_sum_0= (list_special[i],list_special[j])\n",
    "                if pair_sum_0 not in list_required:\n",
    "                    list_required.append((list_special[i],list_special[j]))\n",
    "                \n",
    "print(\"Pair of numbers whose sum is zero: \",list_required)"
   ]
  }
 ],
 "metadata": {
  "kernelspec": {
   "display_name": "Python 3",
   "language": "python",
   "name": "python3"
  },
  "language_info": {
   "codemirror_mode": {
    "name": "ipython",
    "version": 3
   },
   "file_extension": ".py",
   "mimetype": "text/x-python",
   "name": "python",
   "nbconvert_exporter": "python",
   "pygments_lexer": "ipython3",
   "version": "3.12.0"
  }
 },
 "nbformat": 4,
 "nbformat_minor": 2
}
