{
 "cells": [
  {
   "cell_type": "code",
   "execution_count": null,
   "metadata": {},
   "outputs": [],
   "source": [
    "# Given two integers, find its Least Common Multiple (LCM)."
   ]
  },
  {
   "cell_type": "code",
   "execution_count": 3,
   "metadata": {},
   "outputs": [
    {
     "name": "stdout",
     "output_type": "stream",
     "text": [
      "LCM of 12 and 88 is:\n",
      "LCM = 264\n"
     ]
    }
   ],
   "source": [
    "# User input..\n",
    "num1=int(input())\n",
    "num2=int(input())\n",
    "print(\"LCM of\",num1,\"and\",num2,\"is:\")\n",
    "list_common_mul=[]\n",
    "if num1!=0 and num2!=0:\n",
    "    if num1<0:\n",
    "        num1=num1*(-1)\n",
    "    if num2<0:\n",
    "        num2=num2*(-1)\n",
    "    # Finding the multiple of the first numberes..\n",
    "    for i in range(num1,(num1*num2)+1,num1):\n",
    "        # Finding the multiple of the second numbers..\n",
    "        for e in range(num2,(num2*num1)+1,num2):\n",
    "            # Appending common multiple into another list..\n",
    "            if i==e:\n",
    "                list_common_mul.append(i)\n",
    "    # Lowest common multiple will be the LCM\n",
    "    print(\"LCM =\",list_common_mul[0])\n",
    "else:\n",
    "    print(\"You should enter both none-zero integers.\")"
   ]
  }
 ],
 "metadata": {
  "kernelspec": {
   "display_name": "Python 3",
   "language": "python",
   "name": "python3"
  },
  "language_info": {
   "codemirror_mode": {
    "name": "ipython",
    "version": 3
   },
   "file_extension": ".py",
   "mimetype": "text/x-python",
   "name": "python",
   "nbconvert_exporter": "python",
   "pygments_lexer": "ipython3",
   "version": "3.12.0"
  }
 },
 "nbformat": 4,
 "nbformat_minor": 2
}
