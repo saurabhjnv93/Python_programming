{
 "cells": [
  {
   "cell_type": "code",
   "execution_count": 7,
   "metadata": {},
   "outputs": [],
   "source": [
    "# Given two integers, find its Greatest Common Divisor (Divisor)."
   ]
  },
  {
   "cell_type": "code",
   "execution_count": 4,
   "metadata": {},
   "outputs": [
    {
     "name": "stdout",
     "output_type": "stream",
     "text": [
      "Greatest Common Divisor of 12 and 8 is:\n",
      "4\n"
     ]
    }
   ],
   "source": [
    "# User input..\n",
    "num1=int(input(\"Enter the first number:\"))\n",
    "num2=int(input(\"Enter the second number:\"))\n",
    "# Checking if input is non-zero..\n",
    "if num1!=0 and num2!=0:\n",
    "    print(\"Greatest Common Divisor of\",num1,\"and\",num2,\"is:\")\n",
    "    # Convert into positive if negative..\n",
    "    if num1<0:\n",
    "        num1=-num1\n",
    "    if num2<0:\n",
    "        num2=-num2\n",
    "    # Finding maximum number..\n",
    "    max=0\n",
    "    if num2>num1:\n",
    "        max_num=num2\n",
    "    else: \n",
    "        max_num=num1\n",
    "    list_div=[]# It will store common divisor..\n",
    "    for i in range(1,max_num+1):\n",
    "        # This will give common divisor.\n",
    "        if num1%i==0 and num2%i==0:\n",
    "            list_div.append(i)\n",
    "    # Sliced last element to get greatest common divisor..\n",
    "    print(list_div[-1])\n",
    "# Any one from the both input is non-zero..\n",
    "else:\n",
    "    print(\"Please enter both non-zero integers.\")"
   ]
  }
 ],
 "metadata": {
  "kernelspec": {
   "display_name": "Python 3",
   "language": "python",
   "name": "python3"
  },
  "language_info": {
   "codemirror_mode": {
    "name": "ipython",
    "version": 3
   },
   "file_extension": ".py",
   "mimetype": "text/x-python",
   "name": "python",
   "nbconvert_exporter": "python",
   "pygments_lexer": "ipython3",
   "version": "3.12.0"
  }
 },
 "nbformat": 4,
 "nbformat_minor": 2
}
