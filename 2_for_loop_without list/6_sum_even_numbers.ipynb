{
 "cells": [
  {
   "cell_type": "code",
   "execution_count": null,
   "metadata": {},
   "outputs": [],
   "source": [
    "# Given a positive integer, find out the sum of all even numbers from 2 up to this number."
   ]
  },
  {
   "cell_type": "code",
   "execution_count": 1,
   "metadata": {},
   "outputs": [
    {
     "name": "stdout",
     "output_type": "stream",
     "text": [
      "Sum of all integer starts from 2 upto 100 is: 2550\n"
     ]
    }
   ],
   "source": [
    "num_int2=int(input(\"Enter a postive inter: \"))# User input.\n",
    "\n",
    "sum_int=0\n",
    "# Use jump index=2, which gives even integer starts from 2 upto given number.\n",
    "for int_2 in range(2,num_int2+1,2):\n",
    "    # Adding all the numbers given by for loop.\n",
    "    sum_int+=int_2\n",
    "print(\"Sum of all even positive integers starts from 2 upto\",num_int2,\"is:\",sum_int)"
   ]
  },
  {
   "cell_type": "code",
   "execution_count": 3,
   "metadata": {},
   "outputs": [],
   "source": [
    "# define a function to calculate sum of even numbers..\n",
    "def sum_even(pos_int):\n",
    "    sum_even=0\n",
    "    for x in range(2,pos_int+1):\n",
    "        if x%2==0:# Check is integer is even or not.\n",
    "            \n",
    "            sum_even+=x\n",
    "    return sum_even\n",
    "            "
   ]
  },
  {
   "cell_type": "code",
   "execution_count": 4,
   "metadata": {},
   "outputs": [
    {
     "data": {
      "text/plain": [
       "2550"
      ]
     },
     "execution_count": 4,
     "metadata": {},
     "output_type": "execute_result"
    }
   ],
   "source": [
    "sum_even(100)"
   ]
  }
 ],
 "metadata": {
  "kernelspec": {
   "display_name": "Python 3",
   "language": "python",
   "name": "python3"
  },
  "language_info": {
   "codemirror_mode": {
    "name": "ipython",
    "version": 3
   },
   "file_extension": ".py",
   "mimetype": "text/x-python",
   "name": "python",
   "nbconvert_exporter": "python",
   "pygments_lexer": "ipython3",
   "version": "3.12.0"
  }
 },
 "nbformat": 4,
 "nbformat_minor": 2
}
