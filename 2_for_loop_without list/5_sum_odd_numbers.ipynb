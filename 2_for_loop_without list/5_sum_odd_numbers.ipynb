{
 "cells": [
  {
   "cell_type": "code",
   "execution_count": null,
   "metadata": {},
   "outputs": [],
   "source": [
    "# Given a positive integer, find out the sum of all odd numbers from 1 up to this number."
   ]
  },
  {
   "cell_type": "code",
   "execution_count": 1,
   "metadata": {},
   "outputs": [
    {
     "name": "stdout",
     "output_type": "stream",
     "text": [
      "Sum of all odd positive integers from 1 upto 5 is: 9\n"
     ]
    }
   ],
   "source": [
    "num_pos=int(input(\"Enter a positive a integer:\"))# User input.\n",
    "\n",
    "sumint=0\n",
    "# I start number from 1 and use jump index=2 which increase next number by 2 each time to get odd numbers only.\n",
    "for int_num in range(1,num_pos+1,2):\n",
    "    sumint+=int_num\n",
    "print(\"Sum of all odd positive integers from 1 upto\",num_pos,\"is:\",sumint)"
   ]
  },
  {
   "cell_type": "code",
   "execution_count": 1,
   "metadata": {},
   "outputs": [],
   "source": [
    "# Define a function to calculate sum of odd numbers..\n",
    "def sum_odd(pos_int):\n",
    "    sum_odd=0\n",
    "    for x in range(1,pos_int+1):\n",
    "    # Check for the odd numbers.\n",
    "        if x%2!=0:\n",
    "           sum_odd+=x\n",
    "    return sum_odd"
   ]
  },
  {
   "cell_type": "code",
   "execution_count": 2,
   "metadata": {},
   "outputs": [
    {
     "data": {
      "text/plain": [
       "9"
      ]
     },
     "execution_count": 2,
     "metadata": {},
     "output_type": "execute_result"
    }
   ],
   "source": [
    "sum_odd(5)"
   ]
  }
 ],
 "metadata": {
  "kernelspec": {
   "display_name": "Python 3",
   "language": "python",
   "name": "python3"
  },
  "language_info": {
   "codemirror_mode": {
    "name": "ipython",
    "version": 3
   },
   "file_extension": ".py",
   "mimetype": "text/x-python",
   "name": "python",
   "nbconvert_exporter": "python",
   "pygments_lexer": "ipython3",
   "version": "3.12.0"
  }
 },
 "nbformat": 4,
 "nbformat_minor": 2
}
