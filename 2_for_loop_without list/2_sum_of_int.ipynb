{
 "cells": [
  {
   "cell_type": "code",
   "execution_count": null,
   "metadata": {},
   "outputs": [],
   "source": [
    "# Given a positive integer, find out the sum of all integers from 1 up to this number."
   ]
  },
  {
   "cell_type": "code",
   "execution_count": 1,
   "metadata": {},
   "outputs": [
    {
     "name": "stdout",
     "output_type": "stream",
     "text": [
      "You entered: 100\n",
      "Sum of all numbers from 1 upto 100 is: 5050\n"
     ]
    }
   ],
   "source": [
    "# User input...\n",
    "num_int_1=int(input(\"Enter a positive integer and I will give sum of all numbers from 1 upto that number:\"))\n",
    "print(\"You entered:\",num_int_1)\n",
    "sum_num=0\n",
    "for x in range(1,num_int_1+1):\n",
    "    sum_num+=x # This will calculate the sum of numbers given by the for loop.\n",
    "print(\"Sum of all numbers from 1 upto\",num_int_1,\"is:\",sum_num)"
   ]
  },
  {
   "cell_type": "code",
   "execution_count": 1,
   "metadata": {},
   "outputs": [],
   "source": [
    "# Define a function to calculate sum of all numbers upto a given number..\n",
    "def sum_int(pos_int):\n",
    "    print(\"Sum of positive integers from 1 upto\",pos_int,\"is:\")\n",
    "    sum_num=0\n",
    "    for x in range(1,pos_int+1):\n",
    "        sum_num+=x\n",
    "    return sum_num"
   ]
  },
  {
   "cell_type": "code",
   "execution_count": 2,
   "metadata": {},
   "outputs": [
    {
     "name": "stdout",
     "output_type": "stream",
     "text": [
      "Sum of positive integers from 1 upto 100 is:\n"
     ]
    },
    {
     "data": {
      "text/plain": [
       "5050"
      ]
     },
     "execution_count": 2,
     "metadata": {},
     "output_type": "execute_result"
    }
   ],
   "source": [
    "sum_int(100)"
   ]
  }
 ],
 "metadata": {
  "kernelspec": {
   "display_name": "Python 3",
   "language": "python",
   "name": "python3"
  },
  "language_info": {
   "codemirror_mode": {
    "name": "ipython",
    "version": 3
   },
   "file_extension": ".py",
   "mimetype": "text/x-python",
   "name": "python",
   "nbconvert_exporter": "python",
   "pygments_lexer": "ipython3",
   "version": "3.12.0"
  }
 },
 "nbformat": 4,
 "nbformat_minor": 2
}
