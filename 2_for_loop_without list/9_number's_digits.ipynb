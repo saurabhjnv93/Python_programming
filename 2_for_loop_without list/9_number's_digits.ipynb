{
 "cells": [
  {
   "cell_type": "code",
   "execution_count": null,
   "metadata": {},
   "outputs": [],
   "source": [
    "# Given a positive integer, print each of its digits separately without converting the number into a string."
   ]
  },
  {
   "cell_type": "code",
   "execution_count": 3,
   "metadata": {},
   "outputs": [
    {
     "name": "stdout",
     "output_type": "stream",
     "text": [
      "You enter: 342\n",
      "Digits in the number are: [3, 4, 2]\n"
     ]
    }
   ],
   "source": [
    "import math# Imort math module to work with mathematical operation.\n",
    "num_0=int(input(\"Enter a number: \"))\n",
    "print(\"You enter:\",num_0)\n",
    "a=int(math.log10(num_0))+1 # a gives number of digits num_0 have..\n",
    "\n",
    "list_digit=[]# Initialise list so that I can store the digits of the number.\n",
    "for x in range(a):\n",
    "    a=num_0%10\n",
    "    num_0=num_0//10\n",
    "    list_digit.append(a)# Append the last digit of the number in the list_digit.\n",
    "list_digit.reverse()\n",
    "print(\"Digits in the number are:\",list_digit)"
   ]
  },
  {
   "cell_type": "code",
   "execution_count": 4,
   "metadata": {},
   "outputs": [],
   "source": [
    "# Define a funtion to separate out digits a number..\n",
    "def digit_separator(pos_int):\n",
    "    print(\"You enter:\",pos_int)\n",
    "\n",
    "    if pos_int<=0:\n",
    "        print(\"Enter a positive iteger.\")\n",
    "    else:\n",
    "        import math# Imort math module to work with mathematical operation.\n",
    "        \n",
    "        a=int(math.log10(pos_int))+1 # a gives number of digits pos_int have\n",
    "        list_digit=[]# Initialise list so that I can store the digits of the number.\n",
    "        for x in range(a):\n",
    "            a=pos_int%10\n",
    "            pos_int=pos_int//10\n",
    "            list_digit.append(a)# Append the last digit of the number in the list_digit.\n",
    "        list_digit.reverse()\n",
    "        return list_digit"
   ]
  },
  {
   "cell_type": "code",
   "execution_count": 5,
   "metadata": {},
   "outputs": [
    {
     "name": "stdout",
     "output_type": "stream",
     "text": [
      "You enter: 342\n"
     ]
    },
    {
     "data": {
      "text/plain": [
       "[3, 4, 2]"
      ]
     },
     "execution_count": 5,
     "metadata": {},
     "output_type": "execute_result"
    }
   ],
   "source": [
    "digit_separator(342)"
   ]
  }
 ],
 "metadata": {
  "kernelspec": {
   "display_name": "Python 3",
   "language": "python",
   "name": "python3"
  },
  "language_info": {
   "codemirror_mode": {
    "name": "ipython",
    "version": 3
   },
   "file_extension": ".py",
   "mimetype": "text/x-python",
   "name": "python",
   "nbconvert_exporter": "python",
   "pygments_lexer": "ipython3",
   "version": "3.12.0"
  }
 },
 "nbformat": 4,
 "nbformat_minor": 2
}
