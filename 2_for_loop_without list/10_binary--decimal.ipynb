{
 "cells": [
  {
   "cell_type": "code",
   "execution_count": null,
   "metadata": {},
   "outputs": [],
   "source": [
    "# Given a positive integer, convert it into binary, and vice-versa."
   ]
  },
  {
   "cell_type": "code",
   "execution_count": 10,
   "metadata": {},
   "outputs": [
    {
     "name": "stdout",
     "output_type": "stream",
     "text": [
      "You enter: 17 \n",
      " Binary of the 17 is:\n",
      "10001\n"
     ]
    }
   ],
   "source": [
    "# Import maths to do log operation..\n",
    "import math\n",
    "pos_int=int(input(\"Enter a positive enteger:\"))\n",
    "print(\"You enter:\",pos_int ,\"\\n Binary of the\",pos_int,\"is:\")\n",
    "binary=0\n",
    "a=int(math.log2(pos_int))+1# Initiate a constant so that I can run until pos_int%2==0\n",
    "for i in range(a):\n",
    "    b=pos_int%2# Store the reminder..\n",
    "    pos_int=pos_int//2 # find quotient divided by 2..\n",
    "    binary+=(b*(10)**i)\n",
    "print(binary)"
   ]
  },
  {
   "cell_type": "code",
   "execution_count": 13,
   "metadata": {},
   "outputs": [
    {
     "name": "stdout",
     "output_type": "stream",
     "text": [
      "Decimal represntation of 1100 is:\n",
      "12\n"
     ]
    }
   ],
   "source": [
    "# User input as binary number..\n",
    "bin_num=input(\"Enter a binary number:\")\n",
    "print(\"Decimal representation of\",bin_num,\"is:\")\n",
    "# Finding out the number of digits on that binary number..\n",
    "count=0 \n",
    "for x in bin_num:\n",
    "   count+=1\n",
    "\n",
    "decimal_num=0\n",
    "power=count-1\n",
    "a=0\n",
    "# Itrate each binary digits one by one..\n",
    "for i in bin_num:\n",
    "    decimal_num=decimal_num+int(i)*(2**(power-a))\n",
    "    a+=1\n",
    "print(decimal_num)"
   ]
  },
  {
   "cell_type": "code",
   "execution_count": 11,
   "metadata": {},
   "outputs": [],
   "source": [
    "# Import math to do mathematical operationl..\n",
    "import math\n",
    "# define function to convert integers into binary..\n",
    "def func_binary(pos_int):\n",
    "    print(\"You enter:\",pos_int,\"\\n and Binary of\",pos_int,\"is:\")\n",
    "    binary=0\n",
    "    a=int(math.log2(pos_int))+1# Initiate a constant so that I can run until pos_int%2==0\n",
    "    for i in range(a):\n",
    "        b=pos_int%2# Store the reminder..\n",
    "        pos_int=pos_int//2 # find quotient divided by 2..\n",
    "        binary+=(b*(10)**i)\n",
    "    return binary\n",
    "                "
   ]
  },
  {
   "cell_type": "code",
   "execution_count": 12,
   "metadata": {},
   "outputs": [
    {
     "name": "stdout",
     "output_type": "stream",
     "text": [
      "You enter: 9 \n",
      " and Binary of 9 is:\n"
     ]
    },
    {
     "data": {
      "text/plain": [
       "1001"
      ]
     },
     "execution_count": 12,
     "metadata": {},
     "output_type": "execute_result"
    }
   ],
   "source": [
    "func_binary(9)"
   ]
  },
  {
   "cell_type": "code",
   "execution_count": 2,
   "metadata": {},
   "outputs": [],
   "source": [
    "# Define a function to convert binary to decimal..\n",
    "def func_decNum(bin_num):\n",
    "    #Count the no. of digits in binary number..\n",
    "    count=0 \n",
    "    for x in bin_num:\n",
    "        count+=1\n",
    "\n",
    "    decimal_num=0\n",
    "    power=count-1\n",
    "    a=0\n",
    "    # Itrate digits using for loops\n",
    "    for i in bin_num:\n",
    "        decimal_num=decimal_num+int(i)*(2**(power-a))\n",
    "        a+=1\n",
    "        \n",
    "    return decimal_num"
   ]
  },
  {
   "cell_type": "code",
   "execution_count": 3,
   "metadata": {},
   "outputs": [
    {
     "data": {
      "text/plain": [
       "12"
      ]
     },
     "execution_count": 3,
     "metadata": {},
     "output_type": "execute_result"
    }
   ],
   "source": [
    "func_decNum('1100') "
   ]
  }
 ],
 "metadata": {
  "kernelspec": {
   "display_name": "Python 3",
   "language": "python",
   "name": "python3"
  },
  "language_info": {
   "codemirror_mode": {
    "name": "ipython",
    "version": 3
   },
   "file_extension": ".py",
   "mimetype": "text/x-python",
   "name": "python",
   "nbconvert_exporter": "python",
   "pygments_lexer": "ipython3",
   "version": "3.12.0"
  }
 },
 "nbformat": 4,
 "nbformat_minor": 2
}
