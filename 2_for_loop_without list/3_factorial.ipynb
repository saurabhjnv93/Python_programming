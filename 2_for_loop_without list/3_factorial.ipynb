{
 "cells": [
  {
   "cell_type": "code",
   "execution_count": null,
   "metadata": {},
   "outputs": [],
   "source": [
    "# Given a positive integer, find out its factorial."
   ]
  },
  {
   "cell_type": "code",
   "execution_count": 1,
   "metadata": {},
   "outputs": [
    {
     "name": "stdout",
     "output_type": "stream",
     "text": [
      "Factorial of 1 is: 1\n"
     ]
    }
   ],
   "source": [
    "num_pos_int=int(input(\"Enter a positive integer: \"))\n",
    "\n",
    "# Define fact so that I can multiply each numbers upto given number to get factorial.\n",
    "fact=1\n",
    "for num_int in range(2,num_pos_int+1):\n",
    "    fact*=num_int# It will multiply each numbers starting from 1 upto that number to give factorial.\n",
    "print(\"Factorial of\",num_pos_int,\"is:\",fact)"
   ]
  },
  {
   "cell_type": "code",
   "execution_count": 11,
   "metadata": {},
   "outputs": [],
   "source": [
    "# Define a function to calculate factorial...\n",
    "def func_factorial(pos_int):\n",
    "    # Find factorial using for loop..\n",
    "    fact=1\n",
    "    for int1 in range(2,pos_int+1):\n",
    "            fact*=int1\n",
    "    return fact,True"
   ]
  },
  {
   "cell_type": "code",
   "execution_count": 14,
   "metadata": {},
   "outputs": [
    {
     "data": {
      "text/plain": [
       "(362880, True)"
      ]
     },
     "execution_count": 14,
     "metadata": {},
     "output_type": "execute_result"
    }
   ],
   "source": [
    "func_factorial(9)"
   ]
  }
 ],
 "metadata": {
  "kernelspec": {
   "display_name": "Python 3",
   "language": "python",
   "name": "python3"
  },
  "language_info": {
   "codemirror_mode": {
    "name": "ipython",
    "version": 3
   },
   "file_extension": ".py",
   "mimetype": "text/x-python",
   "name": "python",
   "nbconvert_exporter": "python",
   "pygments_lexer": "ipython3",
   "version": "3.12.0"
  }
 },
 "nbformat": 4,
 "nbformat_minor": 2
}
