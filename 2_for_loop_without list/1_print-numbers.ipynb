{
 "cells": [
  {
   "cell_type": "code",
   "execution_count": null,
   "metadata": {},
   "outputs": [],
   "source": [
    "# Given a positive integer, print all integers from 1 up to this number."
   ]
  },
  {
   "cell_type": "code",
   "execution_count": 4,
   "metadata": {},
   "outputs": [
    {
     "name": "stdout",
     "output_type": "stream",
     "text": [
      "All numbers from 1 upto 12 is:\n",
      "1  2  3  4  5  6  7  8  9  10  11  12  "
     ]
    }
   ],
   "source": [
    "# Asking from the user for a input (positive integer).\n",
    "num_1=int(input(\"Enter a positive integer and I will give all number from 1 upto this number: \"))\n",
    "# This for loop will gives all integers from 1 upto the given number.\n",
    "print(\"All numbers from 1 upto\",num_1,\"is:\")\n",
    "for i in range(1,num_1+1):\n",
    "    print(i,end=\"  \") "
   ]
  },
  {
   "cell_type": "code",
   "execution_count": 6,
   "metadata": {},
   "outputs": [],
   "source": [
    "# define a function to print numberes upto given number.\n",
    "def print_num(pos_int):\n",
    "    for i in range(1,pos_int+1):\n",
    "        print(i,end=' ')"
   ]
  },
  {
   "cell_type": "code",
   "execution_count": 7,
   "metadata": {},
   "outputs": [
    {
     "name": "stdout",
     "output_type": "stream",
     "text": [
      "1 2 3 4 5 6 7 8 9 10 11 12 13 14 15 16 17 18 19 20 21 22 23 "
     ]
    }
   ],
   "source": [
    "print_num(23)"
   ]
  }
 ],
 "metadata": {
  "kernelspec": {
   "display_name": "Python 3",
   "language": "python",
   "name": "python3"
  },
  "language_info": {
   "codemirror_mode": {
    "name": "ipython",
    "version": 3
   },
   "file_extension": ".py",
   "mimetype": "text/x-python",
   "name": "python",
   "nbconvert_exporter": "python",
   "pygments_lexer": "ipython3",
   "version": "3.12.0"
  }
 },
 "nbformat": 4,
 "nbformat_minor": 2
}
