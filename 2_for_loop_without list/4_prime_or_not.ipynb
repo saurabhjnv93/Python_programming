{
 "cells": [
  {
   "cell_type": "code",
   "execution_count": null,
   "metadata": {},
   "outputs": [],
   "source": [
    "# Given a positive integer, find out if it’s prime or not."
   ]
  },
  {
   "cell_type": "code",
   "execution_count": 2,
   "metadata": {},
   "outputs": [
    {
     "name": "stdout",
     "output_type": "stream",
     "text": [
      "5 is a prime number.\n"
     ]
    }
   ],
   "source": [
    "num_int_0=int(input(\"Enter a integer:\"))\n",
    "# Checking if input integer is greater than 1 or not, because 2 is smallest prime integer.\n",
    "if num_int_0>1:\n",
    "    a=int((num_int_0)**0.5)+1# Do this to check the defintion of prime number with the help of square root of given number.\n",
    "    count=0\n",
    "    for i in range(2,a):\n",
    "        # Check if number is divisible by any of the numbers from 2 to int(square root of given number.)\n",
    "        if num_int_0%i==0:\n",
    "            # Counting the numbers which divide the given number.\n",
    "            count+=1\n",
    "    if count==0:# If given integer is not divisible by any number other than 1 itrated by for loop.\n",
    "        print(num_int_0,\"is a prime number.\")\n",
    "    else:# If any numbers divide other than 1 given number is not prime.\n",
    "        print(num_int_0,\"is not a prime number.\")\n",
    "else:# If integer is less than 2.\n",
    "    print(\"Smallest prime integer is 2. So, enter a integer greater than or equal to 2.\")"
   ]
  },
  {
   "cell_type": "code",
   "execution_count": 3,
   "metadata": {},
   "outputs": [],
   "source": [
    "# Define a function to check if given integer is prime or not..\n",
    "def func_find_prime(int_pos):\n",
    "    if int_pos>1:\n",
    "    \n",
    "        a=int((int_pos)**0.5)+1# Do this to check the defintion of prime number with the help of square root of given number.\n",
    "        count=0\n",
    "        for i in range(2,a):\n",
    "            # Check if number is divisible by any of the numbers from 2 to int(square root of given number.)\n",
    "            if int_pos%i==0:\n",
    "                # Counting the numbers which divide the given number.\n",
    "                count+=1\n",
    "        if count==0:# If given integer is not divisible by any number other than 1 itrated by for loop.\n",
    "            return \"Prime integer.\"\n",
    "        else:# If any numbers divide other than 1 given number is not prime.\n",
    "            return \"Not a prime integer.\"\n",
    "    else:# If integer is less than 2.\n",
    "        return \"Smallest prime int is 2 so enter integer greater than 1.\""
   ]
  },
  {
   "cell_type": "code",
   "execution_count": 4,
   "metadata": {},
   "outputs": [
    {
     "data": {
      "text/plain": [
       "'Prime integer.'"
      ]
     },
     "execution_count": 4,
     "metadata": {},
     "output_type": "execute_result"
    }
   ],
   "source": [
    "func_find_prime(5)"
   ]
  }
 ],
 "metadata": {
  "kernelspec": {
   "display_name": "Python 3",
   "language": "python",
   "name": "python3"
  },
  "language_info": {
   "codemirror_mode": {
    "name": "ipython",
    "version": 3
   },
   "file_extension": ".py",
   "mimetype": "text/x-python",
   "name": "python",
   "nbconvert_exporter": "python",
   "pygments_lexer": "ipython3",
   "version": "3.12.0"
  }
 },
 "nbformat": 4,
 "nbformat_minor": 2
}
