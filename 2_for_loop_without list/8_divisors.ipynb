{
 "cells": [
  {
   "cell_type": "code",
   "execution_count": null,
   "metadata": {},
   "outputs": [],
   "source": [
    "# Given a positive integer, find all its divisors."
   ]
  },
  {
   "cell_type": "code",
   "execution_count": 1,
   "metadata": {},
   "outputs": [
    {
     "name": "stdout",
     "output_type": "stream",
     "text": [
      "Numbers which divides 12 are:\n",
      "1  2  3  4  6  12  "
     ]
    }
   ],
   "source": [
    "num_i=int(input(\"Enter a integer:\")) # User input.\n",
    "print(\"Numbers which divides\",num_i,\"are:\")\n",
    "for x in range(1,num_i+1):\n",
    "    if num_i%x==0:\n",
    "        # Checking numbers which divide the given number.\n",
    "        print(x,end=\"  \")"
   ]
  },
  {
   "cell_type": "code",
   "execution_count": 5,
   "metadata": {},
   "outputs": [],
   "source": [
    "# Define a function to calculate divisors of a numberes..\n",
    "def func_divisor(num_i):\n",
    "    print(\"Numbers which divides\",num_i,\"are:\")\n",
    "    for x in range(1,num_i+1):\n",
    "        if num_i%x==0:\n",
    "            # Checking numbers which divide the given number.\n",
    "            print(x,end=\"  \")"
   ]
  },
  {
   "cell_type": "code",
   "execution_count": 6,
   "metadata": {},
   "outputs": [
    {
     "name": "stdout",
     "output_type": "stream",
     "text": [
      "Numbers which divides 12 are:\n",
      "1  2  3  4  6  12  "
     ]
    }
   ],
   "source": [
    "func_divisor(12)"
   ]
  }
 ],
 "metadata": {
  "kernelspec": {
   "display_name": "Python 3",
   "language": "python",
   "name": "python3"
  },
  "language_info": {
   "codemirror_mode": {
    "name": "ipython",
    "version": 3
   },
   "file_extension": ".py",
   "mimetype": "text/x-python",
   "name": "python",
   "nbconvert_exporter": "python",
   "pygments_lexer": "ipython3",
   "version": "3.12.0"
  }
 },
 "nbformat": 4,
 "nbformat_minor": 2
}
