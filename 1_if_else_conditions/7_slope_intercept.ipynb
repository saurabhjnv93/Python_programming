{
 "cells": [
  {
   "cell_type": "code",
   "execution_count": null,
   "metadata": {},
   "outputs": [],
   "source": [
    "# Given two points (x1, y1) and (x2, y2), find the slope and intercept of the line joining these two points (the line may be perfectly horizontal or vertical)."
   ]
  },
  {
   "cell_type": "code",
   "execution_count": null,
   "metadata": {},
   "outputs": [],
   "source": [
    "# first point is \n",
    "x1=float(input(\"Enter the X coordinate of your first poit: \"))\n",
    "y1=float(input(\"Enter the Y coordinate of your first point: \"))\n",
    "print(\"your first point is:\",(x1,y1))\n",
    "#second point is \n",
    "x2=float(input(\"Enter the X coordinate of your second point: \"))\n",
    "y2=float(input(\"Enter the Y coordinate of your second point: \"))\n",
    "print(\"Your second point is:\",(x2,y2))\n",
    "a=(y2-y1)# projection of line on y-axis\n",
    "b=(x2-x1)# projection of line on x-axis\n",
    "if b!=0:\n",
    "    slope=a/b\n",
    "    # Put this under (if condition) because, \n",
    "    #if it comes outside then it will through error when (b) became zer0\n",
    "\n",
    "    intercept=y2-(slope*x2)# derived formula from the equation of straight line.\n",
    "\n",
    "    print(\"slope of line is:\",slope)\n",
    "    print(\"Y-Intercept of line is:\",intercept)\n",
    "else:\n",
    "    print(\"Slope is not define and Y-intercept is also not define.\")\n",
    "    "
   ]
  },
  {
   "cell_type": "code",
   "execution_count": 1,
   "metadata": {},
   "outputs": [],
   "source": [
    "def  slope_intercept_func(x1,y1,x2,y2):\n",
    "    a=(y2-y1)# projection of line on y-axis\n",
    "    b=(x2-x1)# projection of line on x-axis\n",
    "    if b!=0:\n",
    "        slope=a/b\n",
    "        # Put this under (if condition) because, \n",
    "        #if it comes outside then it will through error when (b) became zer0\n",
    "\n",
    "        intercept=y2-(slope*x2)# derived formula from the equation of straight line.\n",
    "\n",
    "        return \"slope:\",slope,\"Y-intercept:\",intercept,True\n",
    "    else:\n",
    "        return \"slope and Y-intercept are not define\",False"
   ]
  },
  {
   "cell_type": "code",
   "execution_count": 2,
   "metadata": {},
   "outputs": [
    {
     "data": {
      "text/plain": [
       "('slope:', 1.0, 'Y-intercept:', 1.0, True)"
      ]
     },
     "execution_count": 2,
     "metadata": {},
     "output_type": "execute_result"
    }
   ],
   "source": [
    "slope_intercept_func(2,1,2,1)\n",
    "slope_intercept_func(2,3,4,5)"
   ]
  }
 ],
 "metadata": {
  "kernelspec": {
   "display_name": "Python 3",
   "language": "python",
   "name": "python3"
  },
  "language_info": {
   "codemirror_mode": {
    "name": "ipython",
    "version": 3
   },
   "file_extension": ".py",
   "mimetype": "text/x-python",
   "name": "python",
   "nbconvert_exporter": "python",
   "pygments_lexer": "ipython3",
   "version": "3.12.0"
  }
 },
 "nbformat": 4,
 "nbformat_minor": 2
}
