{
 "cells": [
  {
   "cell_type": "code",
   "execution_count": null,
   "metadata": {},
   "outputs": [],
   "source": [
    "# Given a point (x1, y1), find the quadrant in which this point lies."
   ]
  },
  {
   "cell_type": "code",
   "execution_count": 3,
   "metadata": {},
   "outputs": [
    {
     "name": "stdout",
     "output_type": "stream",
     "text": [
      "You enter a point: (0.0, -3.0)\n",
      "Your point lie on the negative Y-axis\n"
     ]
    }
   ],
   "source": [
    "# User input.\n",
    "x1=float(input(\"Enter the X-coordinate of the point:\"))\n",
    "y1=float(input(\"Enter the Y-coordinate of the point:\"))\n",
    "print(\"You enter a point:\",(x1,y1))\n",
    "# If X-coordinate is positive.\n",
    "if x1>0:\n",
    "    if y1>0:\n",
    "        print(\"Your point lie in the first quadrant.\")\n",
    "    elif y1<0:\n",
    "        print(\"Your point lie in the fourth quadrant.\")\n",
    "    # If X-coordinate is not zero but Y-coordinate is zero.\n",
    "    else:\n",
    "        print(\"Your point lie on the positive X-axis.\")\n",
    "# If X-cooridinate is negative.\n",
    "elif x1<0:\n",
    "    if y1>0:\n",
    "        print(\"Your point lie in the second quadrant.\")\n",
    "    elif y1<0:\n",
    "        print(\"Your point lie in the third quadrant.\")\n",
    "     # If X-coordinate is not zero but Y-coordinate is zero.\n",
    "    else:\n",
    "        print(\"Your point lie on the negative x-axis.\")\n",
    "# if X-coordinate is zero and Y-coordinate is non zero.        \n",
    "elif x1==0 and y1!=0:\n",
    "   if y1>0:\n",
    "       print(\"Your point lie on positive Y-axis.\")\n",
    "   else:\n",
    "       print(\"Your point lie on the negative Y-axis.\")\n",
    "# If both coordinates are zero.\n",
    "else:\n",
    "    print(\"Your point is the origin.\")\n"
   ]
  },
  {
   "cell_type": "code",
   "execution_count": 9,
   "metadata": {},
   "outputs": [],
   "source": [
    "# Define a function as find_coordinates...\n",
    "def find_coordinates(x1,y1):\n",
    "    print(\"You enter a point:\",(x1,y1))\n",
    "    # If X-coordinate is positive.\n",
    "    if x1>0:\n",
    "        if y1>0:\n",
    "            return \"first quadrant\"\n",
    "        elif y1<0:\n",
    "            return \"fourth quadrant\"\n",
    "        # If X-coordinate is not zero but Y-coordinate is zero.\n",
    "        else:\n",
    "            return \"positive x-axis\"\n",
    "    # If X-cooridinate is negative.\n",
    "    elif x1<0:\n",
    "        if y1>0:\n",
    "            return \"second quadarnt\"\n",
    "        elif y1<0:\n",
    "            return \"third quadrant\"\n",
    "        # If X-coordinate is not zero but Y-coordinate is zero.\n",
    "        else:\n",
    "            return \"negative x-axis\"\n",
    "    # if X-coordinate is zero and Y-coordinate is non zero.        \n",
    "    elif x1==0 and y1!=0:\n",
    "        return \"y-axis\"\n",
    "    # If both coordinates are zero.\n",
    "    else:\n",
    "       return \"origin\""
   ]
  },
  {
   "cell_type": "code",
   "execution_count": 12,
   "metadata": {},
   "outputs": [
    {
     "name": "stdout",
     "output_type": "stream",
     "text": [
      "You enter a point: (9, 0)\n"
     ]
    },
    {
     "data": {
      "text/plain": [
       "'positive x-axis'"
      ]
     },
     "execution_count": 12,
     "metadata": {},
     "output_type": "execute_result"
    }
   ],
   "source": [
    "find_coordinates(x1=9,y1=0)"
   ]
  }
 ],
 "metadata": {
  "kernelspec": {
   "display_name": "Python 3",
   "language": "python",
   "name": "python3"
  },
  "language_info": {
   "codemirror_mode": {
    "name": "ipython",
    "version": 3
   },
   "file_extension": ".py",
   "mimetype": "text/x-python",
   "name": "python",
   "nbconvert_exporter": "python",
   "pygments_lexer": "ipython3",
   "version": "3.12.0"
  }
 },
 "nbformat": 4,
 "nbformat_minor": 2
}
