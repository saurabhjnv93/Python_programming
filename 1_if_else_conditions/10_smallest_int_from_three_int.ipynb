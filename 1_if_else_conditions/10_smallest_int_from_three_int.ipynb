{
 "cells": [
  {
   "cell_type": "code",
   "execution_count": null,
   "metadata": {},
   "outputs": [],
   "source": [
    "# Given three integers, find the smallest one."
   ]
  },
  {
   "cell_type": "code",
   "execution_count": 22,
   "metadata": {},
   "outputs": [
    {
     "name": "stdout",
     "output_type": "stream",
     "text": [
      "You entered first number as: a= 2\n",
      "You entered first number as: b= 3\n",
      "You entered first number as: c= 4\n",
      "a is smallest.\n"
     ]
    }
   ],
   "source": [
    "a=int(input(\"Enter your second number: \"))# taking three input from the user\n",
    "print(\"You entered first number as:\",\"a=\",a)\n",
    "b=int(input(\"Enter your second number: \"))# taking three input from the user\n",
    "print(\"You entered first number as:\",\"b=\",b)\n",
    "c=int(input(\"Enter your third number: \"))# taking three input from the user\n",
    "print(\"You entered first number as:\",\"c=\",c)\n",
    "# to check if all numbers are equal\n",
    "if a==b and a==c:\n",
    "    print(\"All number are same.\")\n",
    "# if any of two numbers are equal.\n",
    "elif a==b and a!=c:\n",
    "    if a<c:\n",
    "        print('a and b are equal and smallest.')\n",
    "    else:\n",
    "        print('c is smallest and first and second numbers are equal.')\n",
    "elif a==c and a!=b:\n",
    "    if a<b:\n",
    "        print(\"a and c are equal and smallest too.\")\n",
    "    else:\n",
    "        print(\"b is smallest , and first and third numbers are equal.\")\n",
    "elif b==c and b!=a:\n",
    "    if b<a:\n",
    "        print(\"b and c are equal and smallest too.\")\n",
    "    else:\n",
    "        print(\"a is smallest , and second and third numbers are equal.\")\n",
    "# if all are diffrent\n",
    "else:\n",
    "    if a<b and a<c:\n",
    "        print(\"a is smallest.\")\n",
    "    elif b<c:\n",
    "        print(\"b smallest.\")\n",
    "    else:\n",
    "        print(\"c is smallest.\") "
   ]
  }
 ],
 "metadata": {
  "kernelspec": {
   "display_name": "Python 3",
   "language": "python",
   "name": "python3"
  },
  "language_info": {
   "codemirror_mode": {
    "name": "ipython",
    "version": 3
   },
   "file_extension": ".py",
   "mimetype": "text/x-python",
   "name": "python",
   "nbconvert_exporter": "python",
   "pygments_lexer": "ipython3",
   "version": "3.12.0"
  }
 },
 "nbformat": 4,
 "nbformat_minor": 2
}
