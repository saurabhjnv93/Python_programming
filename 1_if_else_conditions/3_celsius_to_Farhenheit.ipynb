{
 "cells": [
  {
   "cell_type": "code",
   "execution_count": null,
   "metadata": {},
   "outputs": [],
   "source": [
    "# Given a temperature in Celsius, convert it to Fahrenheit using the formula F = (C * 1.8) + 32. If the temperature is above 90°F, print “It’s hot outside!” otherwise, print “The temperature is pleasant”."
   ]
  },
  {
   "cell_type": "code",
   "execution_count": 4,
   "metadata": {},
   "outputs": [
    {
     "name": "stdout",
     "output_type": "stream",
     "text": [
      "Temperature in forenheit is: 93.2 F\n",
      "It's hot outside!\n"
     ]
    }
   ],
   "source": [
    "# User input in celcius.\n",
    "temp_celsius=float(input(\"Enter the temperature in celsius:\")) \n",
    " # Conversion of temperature into forenheit.\n",
    "fahrenheit=(temp_celsius*1.8)+32\n",
    "print(\"Temperature in forenheit is:\",fahrenheit,\"F\")\n",
    "\n",
    "# Checking for the weather condition.\n",
    "if fahrenheit>90:\n",
    "    print(\"It's hot outside!\")\n",
    "else:\n",
    "    print(\"The temprature is pleasant.\")"
   ]
  },
  {
   "cell_type": "code",
   "execution_count": 2,
   "metadata": {},
   "outputs": [],
   "source": [
    "def fahren_temp(celsius):\n",
    "    fahrenheit=(celsius*1.8)+32\n",
    "    # Checking for the weather condition.\n",
    "    print(\"Temprature in Forenheit and Weather the condition:\") \n",
    "    if fahrenheit>90:\n",
    "       return fahrenheit,\"Weather is hot outside.\"\n",
    "    else:\n",
    "        return fahrenheit,\"Weather is pleasent.\""
   ]
  },
  {
   "cell_type": "code",
   "execution_count": 3,
   "metadata": {},
   "outputs": [
    {
     "name": "stdout",
     "output_type": "stream",
     "text": [
      "Temprature in Forenheit and Weather the condition:\n"
     ]
    },
    {
     "data": {
      "text/plain": [
       "(104.0, 'Weather is hot outside.')"
      ]
     },
     "execution_count": 3,
     "metadata": {},
     "output_type": "execute_result"
    }
   ],
   "source": [
    "# fahren_temp(30)\n",
    "fahren_temp(40)"
   ]
  }
 ],
 "metadata": {
  "kernelspec": {
   "display_name": "Python 3",
   "language": "python",
   "name": "python3"
  },
  "language_info": {
   "codemirror_mode": {
    "name": "ipython",
    "version": 3
   },
   "file_extension": ".py",
   "mimetype": "text/x-python",
   "name": "python",
   "nbconvert_exporter": "python",
   "pygments_lexer": "ipython3",
   "version": "3.12.0"
  }
 },
 "nbformat": 4,
 "nbformat_minor": 2
}
