{
 "cells": [
  {
   "cell_type": "code",
   "execution_count": null,
   "metadata": {},
   "outputs": [],
   "source": [
    "# Given two integers, find the larger one."
   ]
  },
  {
   "cell_type": "code",
   "execution_count": 4,
   "metadata": {},
   "outputs": [
    {
     "name": "stdout",
     "output_type": "stream",
     "text": [
      "first number: 1 ,second number: 4\n",
      "4 is the greatest integer.\n"
     ]
    }
   ],
   "source": [
    " # User input.\n",
    "num1=int(input(\"Enter first integer:\"))\n",
    "num2=int(input(\"Enter second integer:\"))\n",
    "print(\"first number:\",num1,\",second number:\",num2)\n",
    "# If numbers are equal.\n",
    "if num1==num2: \n",
    "    print(\"Both numbers are equal.\")\n",
    "# Checking if numbers are not equal.\n",
    "elif num1>num2:\n",
    "    print(num1,\"is the greatest integer.\")\n",
    "else:\n",
    "    print(num2,\"is the greatest integer.\")"
   ]
  },
  {
   "cell_type": "code",
   "execution_count": 1,
   "metadata": {},
   "outputs": [],
   "source": [
    "def cal_greatest(num1,num2):\n",
    "    # If numbers are equal.\n",
    "    print(\"first number:\",num1,\"second number:\",num2)\n",
    "    if num1==num2:\n",
    "        return num1,num2,\"Both are equal\"\n",
    "    # Checking if numbers are not equal.\n",
    "    elif num1>num2:\n",
    "        return num1,\"is greater\"\n",
    "    else:\n",
    "        return num2,\"is greater\""
   ]
  },
  {
   "cell_type": "code",
   "execution_count": 2,
   "metadata": {},
   "outputs": [
    {
     "data": {
      "text/plain": [
       "(31, 'is greater')"
      ]
     },
     "execution_count": 2,
     "metadata": {},
     "output_type": "execute_result"
    }
   ],
   "source": [
    "cal_greatest(31,3) "
   ]
  }
 ],
 "metadata": {
  "kernelspec": {
   "display_name": "Python 3",
   "language": "python",
   "name": "python3"
  },
  "language_info": {
   "codemirror_mode": {
    "name": "ipython",
    "version": 3
   },
   "file_extension": ".py",
   "mimetype": "text/x-python",
   "name": "python",
   "nbconvert_exporter": "python",
   "pygments_lexer": "ipython3",
   "version": "3.12.0"
  }
 },
 "nbformat": 4,
 "nbformat_minor": 2
}
