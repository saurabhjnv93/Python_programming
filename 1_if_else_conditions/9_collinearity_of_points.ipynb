{
 "cells": [
  {
   "cell_type": "code",
   "execution_count": null,
   "metadata": {},
   "outputs": [],
   "source": [
    "# Given three points, find out whether they lie on the same straight line or not."
   ]
  },
  {
   "cell_type": "code",
   "execution_count": null,
   "metadata": {},
   "outputs": [],
   "source": [
    "## for the first point \n",
    "x1=float(input(\"Enter the X coordinate of your first poit: \"))\n",
    "y1=float(input(\"Enter the Y coordinate of your first point: \"))\n",
    "print(\"your first point is:\",(x1,y1))\n",
    "# for the second point\n",
    "x2=float(input(\"Enter the X coordinate of your second point: \"))\n",
    "y2=float(input(\"Enter the Y coordinate of your second point: \"))\n",
    "print(\"Your second point is:\",(x2,y2))\n",
    "# for the third point \n",
    "x3=float(input(\"Enter the X coordinate of your third point: \"))\n",
    "y3=float(input(\"Enter the Y coordinate of your third point: \"))\n",
    "print(\"Your third point  is:\",(x3,y3))\n",
    "#we can draw three line from these three point but we needs only two line ,\n",
    "# so that we can compare their slope \n",
    "# if slopes of two line are equal then points lies on the same line\n",
    "\n",
    "# Forming a line by taking point 1 and 2 together\n",
    "a=(y2-y1)\n",
    "b=(x2-x1)\n",
    "# Forming another line by taking point 2 and 3 together\n",
    "c=(y3-y2)\n",
    "d=(x3-x2)\n",
    "#conditional statements to check whether they lies on the same line or not \n",
    "if b!=0 and d!=0:\n",
    "    #slope of first line is\n",
    "    slope1=a/b\n",
    "    print(\"Slope of the first line is : \",slope1)\n",
    "    #slope of second line is \n",
    "    slope2=c/d\n",
    "    print(\"Slope of second line is: \",slope2)\n",
    "    if slope1==slope2:\n",
    "            print(\"All points lies on the same line.\")\n",
    "    else:\n",
    "            print(\"Your points do not  lies on the same line.\")\n",
    "\n",
    "elif b==0 and d!=0:\n",
    "        print(\"Slope of first line is: \",\"Not define\")\n",
    "        print(\"Slope of second line is : \",c/d)\n",
    "        print(\"Your points do not lies on same line .\")\n",
    "\n",
    "elif b!=0 and d==0:\n",
    "        print(\"Slope of first line is: \",a/b)\n",
    "        print(\"Slope of second line is: \",\"Not define\")\n",
    "        print(\"Your points do not lies on same line .\")       \n",
    "else:\n",
    "        print(\"Slope of the first line is : Not define.\")\n",
    "        print(\"Slope of second line is : Not define.\")\n",
    "        print(\" Your points the lies on the same line .\")"
   ]
  },
  {
   "cell_type": "markdown",
   "metadata": {},
   "source": []
  }
 ],
 "metadata": {
  "language_info": {
   "name": "python"
  }
 },
 "nbformat": 4,
 "nbformat_minor": 2
}
