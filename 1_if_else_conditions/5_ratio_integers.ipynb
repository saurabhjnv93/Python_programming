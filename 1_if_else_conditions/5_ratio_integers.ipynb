{
 "cells": [
  {
   "cell_type": "code",
   "execution_count": null,
   "metadata": {},
   "outputs": [],
   "source": [
    "# Given two numbers, a and b, find the value of a/b (b may be zero)."
   ]
  },
  {
   "cell_type": "code",
   "execution_count": 19,
   "metadata": {},
   "outputs": [
    {
     "name": "stdout",
     "output_type": "stream",
     "text": [
      "a/b is: 0.75\n"
     ]
    }
   ],
   "source": [
    "# Taking input from the user.\n",
    "a=float(input(\"Enter the first number:\")) \n",
    "b=float(input(\"Enter the second number:\"))\n",
    "\n",
    "if b!=0: # If denominator is not zero.\n",
    "    print(\"a/b is:\",a/b)\n",
    "else:# If denominator is zero.\n",
    "    print(\"Denominator is zero so you can't find a/b.\")"
   ]
  },
  {
   "cell_type": "code",
   "execution_count": 9,
   "metadata": {},
   "outputs": [],
   "source": [
    "def func_ratio(num1,num2):\n",
    "    print(\"First number:\",num1,\",\",\"Second number:\",num2,\"\\n num1/num2=\")\n",
    "    # check if denominator is not zero.\n",
    "    if num2!=0:\n",
    "        return num1/num2,True\n",
    "    # if denominatior is zero.\n",
    "    else:\n",
    "        return \"Not define\",False\n",
    "    "
   ]
  },
  {
   "cell_type": "code",
   "execution_count": 12,
   "metadata": {},
   "outputs": [
    {
     "name": "stdout",
     "output_type": "stream",
     "text": [
      "First number: 12 , Second number: 0 \n",
      " num1/num2=\n"
     ]
    },
    {
     "data": {
      "text/plain": [
       "(False, 'Not define')"
      ]
     },
     "execution_count": 12,
     "metadata": {},
     "output_type": "execute_result"
    }
   ],
   "source": [
    "func_ratio(12,0)\n"
   ]
  }
 ],
 "metadata": {
  "kernelspec": {
   "display_name": "Python 3",
   "language": "python",
   "name": "python3"
  },
  "language_info": {
   "codemirror_mode": {
    "name": "ipython",
    "version": 3
   },
   "file_extension": ".py",
   "mimetype": "text/x-python",
   "name": "python",
   "nbconvert_exporter": "python",
   "pygments_lexer": "ipython3",
   "version": "3.12.0"
  }
 },
 "nbformat": 4,
 "nbformat_minor": 2
}
