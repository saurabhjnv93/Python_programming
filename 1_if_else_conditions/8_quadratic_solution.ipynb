{
 "cells": [
  {
   "cell_type": "code",
   "execution_count": null,
   "metadata": {},
   "outputs": [],
   "source": [
    "# Given a quadratic equation with coefficients a, b and c, find the two solutions (may be real or complex). You should not take the square root of a negative number in your code."
   ]
  },
  {
   "cell_type": "code",
   "execution_count": 4,
   "metadata": {},
   "outputs": [
    {
     "name": "stdout",
     "output_type": "stream",
     "text": [
      "QuaDrativc equation is: 1.0 x^2 + 2.0 x + 3.0 = 0\n",
      "You will get complex roots of your quadratic equation. \n",
      " Your roots will be : x1= real part is: -1.0  And imaginary part is: 1.4142135623730951 \n",
      "X2= real part is: -1.0  And imaginary part is: -1.4142135623730951\n"
     ]
    }
   ],
   "source": [
    "# Taking cofficient and constant term of a quadratic from the user \n",
    "a=float(input(\"Enter the cofficient of x^2: \"))\n",
    "b=float(input(\"Enter the cofficient of x : \"))\n",
    "c=float(input(\"Enter the constant term of the quadratic equation: \"))\n",
    "\n",
    "if a==0:\n",
    "    print(\"Equation became a linear equation:\",b,\"x +\",c,\"= 0\")\n",
    "    print(\"Root of the linear equation is:\",(-c)/b)\n",
    "else:\n",
    "    print(\"QuaDrativc equation is:\",a,\"x^2\",\"+\",b,\"x +\",c,\"= 0\")\n",
    "    D=(b**2)-(4*a*c)# Calculation of the Determinant of the quadratic equation \n",
    "    \n",
    "    # These claculations under conditional statements are based on Shridhracharya Formula\n",
    "    if D<0:\n",
    "        # Real part..\n",
    "        e=(-b/(2*a) )  \n",
    "        # Modify calculation to get imaginary part.\n",
    "        g=((4*a*c)-(b**2))**0.5/(2*a)\n",
    "        print(\"You will get complex roots of your quadratic equation.\",\"\\n Your roots will be :\",\"x1=\",\"real part is:\",(e),\" And imaginary part is:\",(g),\"\\nX2=\",\"real part is:\",(e),\" And imaginary part is:\",(-g))\n",
    "    elif D==0:\n",
    "        # Real part..\n",
    "        e=(-b/(2*a) )  \n",
    "        print(\"Your roots will be real and equal .\",\"\\n Your roots are:\",e) \n",
    "    else:\n",
    "        # Real part and unequal solution..\n",
    "        e=(-b/(2*a) )  \n",
    "        f=((D)**0.5)/(2*a)\n",
    "        print(\"Your roots are real and unequal .\",\"\\n your roots are: \",\"x1=\",(e+f),\"x2=\",(e-f)) "
   ]
  }
 ],
 "metadata": {
  "kernelspec": {
   "display_name": "Python 3",
   "language": "python",
   "name": "python3"
  },
  "language_info": {
   "codemirror_mode": {
    "name": "ipython",
    "version": 3
   },
   "file_extension": ".py",
   "mimetype": "text/x-python",
   "name": "python",
   "nbconvert_exporter": "python",
   "pygments_lexer": "ipython3",
   "version": "3.12.0"
  }
 },
 "nbformat": 4,
 "nbformat_minor": 2
}
