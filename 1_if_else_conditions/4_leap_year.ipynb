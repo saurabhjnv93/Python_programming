{
 "cells": [
  {
   "cell_type": "code",
   "execution_count": null,
   "metadata": {},
   "outputs": [],
   "source": [
    "# Given a year, check if it is a leap year or not. A leap year is divisible by 4, except for years that are divisible by 100. However, years that are divisible by 400 are also leap years."
   ]
  },
  {
   "cell_type": "code",
   "execution_count": null,
   "metadata": {},
   "outputs": [],
   "source": [
    "year=int(input(\"Enter a year: \"))# User's input....\n",
    "# Checking for the divisibility of 400.\n",
    "if year%400==0:\n",
    "    print(\"Year is a leap year.\")\n",
    "# Checking for the divisibility of the year by 4 but not by 100..\n",
    "elif year%4==0 and year%100!=0:\n",
    "    print(\"Year is leap year.\")\n",
    "else:\n",
    "    print(year,\"is not a leap year.\") "
   ]
  },
  {
   "cell_type": "code",
   "execution_count": 5,
   "metadata": {},
   "outputs": [],
   "source": [
    "def find_leap_year(year):\n",
    "    print(\"You have entered:\",year)\n",
    "    if year%400==0:\n",
    "        return \"Leap year.\"\n",
    "    # Checking for the divisibility of the year by 4 but not by 100..\n",
    "    elif year%4==0 and year%100!=0:\n",
    "        return \"Leap year.\"\n",
    "    else:\n",
    "        return \"Not a leap year.\""
   ]
  },
  {
   "cell_type": "code",
   "execution_count": 6,
   "metadata": {},
   "outputs": [
    {
     "name": "stdout",
     "output_type": "stream",
     "text": [
      "You have entered: 1900\n"
     ]
    },
    {
     "data": {
      "text/plain": [
       "'Not a leap year.'"
      ]
     },
     "execution_count": 6,
     "metadata": {},
     "output_type": "execute_result"
    }
   ],
   "source": [
    "find_leap_year(1900)"
   ]
  }
 ],
 "metadata": {
  "kernelspec": {
   "display_name": "Python 3",
   "language": "python",
   "name": "python3"
  },
  "language_info": {
   "codemirror_mode": {
    "name": "ipython",
    "version": 3
   },
   "file_extension": ".py",
   "mimetype": "text/x-python",
   "name": "python",
   "nbconvert_exporter": "python",
   "pygments_lexer": "ipython3",
   "version": "3.12.0"
  }
 },
 "nbformat": 4,
 "nbformat_minor": 2
}
