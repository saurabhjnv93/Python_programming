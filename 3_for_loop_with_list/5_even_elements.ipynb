{
 "cells": [
  {
   "cell_type": "code",
   "execution_count": null,
   "metadata": {},
   "outputs": [],
   "source": [
    "# Given a list of numbers, find all the even numbers in it."
   ]
  },
  {
   "cell_type": "code",
   "execution_count": 5,
   "metadata": {},
   "outputs": [
    {
     "name": "stdout",
     "output_type": "stream",
     "text": [
      "List of the even numbers: [2, 4, 6, 8, 0, -4]\n"
     ]
    }
   ],
   "source": [
    "# Sample list..\n",
    "list_num1=[1,2,3,4,5,6,7,8,9,0,-9,-4,1.4,1.2,2.4]\n",
    "\n",
    "list_even=[] # Initialise a list to append all the even numbers.\n",
    "# Iterating the elements of the list with the help of for loop..\n",
    "for ele in list_num1:\n",
    "        \n",
    "        if ele%2==0:# Divide number by 2 to check it is even.\n",
    "            list_even.append(ele)\n",
    "print(\"List of the even numbers:\",list_even)"
   ]
  },
  {
   "cell_type": "code",
   "execution_count": 2,
   "metadata": {},
   "outputs": [],
   "source": [
    "# Define a function to create a list of even numbers only..\n",
    "def func_lst_even(lst):\n",
    "    list_even=[] # Initialise a list to append all the even numbers.\n",
    "    # Itrating the elements of the list with the help of for loop..\n",
    "    for ele in lst:\n",
    "            \n",
    "            if ele%2==0:# Divide number by 2 to check it is even.\n",
    "                list_even.append(ele)\n",
    "    return list_even"
   ]
  },
  {
   "cell_type": "code",
   "execution_count": 3,
   "metadata": {},
   "outputs": [
    {
     "data": {
      "text/plain": [
       "[]"
      ]
     },
     "execution_count": 3,
     "metadata": {},
     "output_type": "execute_result"
    }
   ],
   "source": [
    "list_num1=[]\n",
    "func_lst_even(list_num1)"
   ]
  }
 ],
 "metadata": {
  "kernelspec": {
   "display_name": "Python 3",
   "language": "python",
   "name": "python3"
  },
  "language_info": {
   "codemirror_mode": {
    "name": "ipython",
    "version": 3
   },
   "file_extension": ".py",
   "mimetype": "text/x-python",
   "name": "python",
   "nbconvert_exporter": "python",
   "pygments_lexer": "ipython3",
   "version": "3.12.0"
  }
 },
 "nbformat": 4,
 "nbformat_minor": 2
}
