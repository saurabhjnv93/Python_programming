{
 "cells": [
  {
   "cell_type": "code",
   "execution_count": null,
   "metadata": {},
   "outputs": [],
   "source": [
    "# Given a list of numbers, find out how many even numbers it has."
   ]
  },
  {
   "cell_type": "code",
   "execution_count": 2,
   "metadata": {},
   "outputs": [
    {
     "name": "stdout",
     "output_type": "stream",
     "text": [
      "Nummbers of the even numbers is: 10\n"
     ]
    }
   ],
   "source": [
    "# Sample list..\n",
    "list_num=[1,2,3,4,5,6,7,8,9,0,-9,-7,-8,11,22,33,44,55,66,46,-1.20,20.1]\n",
    "\n",
    "count=0\n",
    "# Itrating all elements from the list using for loop..\n",
    "for ele in  list_num:\n",
    "        if ele%2==0:# Check if the number is divisible by 2 or not.\n",
    "            \n",
    "# If divisible then add 1 to count as ele is even number.\n",
    "            count+=1\n",
    "print(\"Nummbers of the even numbers is:\",count)"
   ]
  },
  {
   "cell_type": "code",
   "execution_count": 1,
   "metadata": {},
   "outputs": [],
   "source": [
    "def func_count_even(listNum):\n",
    "    count=0\n",
    "    # Itrating all elements from the list using for loop..\n",
    "    for ele in  listNum:\n",
    "            if ele%2==0:# Check if the number is divisible by 2 or not.\n",
    "    # If divisible then add 1 to count as ele is even number.\n",
    "                count+=1\n",
    "    return count"
   ]
  },
  {
   "cell_type": "code",
   "execution_count": 3,
   "metadata": {},
   "outputs": [
    {
     "data": {
      "text/plain": [
       "10"
      ]
     },
     "execution_count": 3,
     "metadata": {},
     "output_type": "execute_result"
    }
   ],
   "source": [
    "list_num=[1,2,3,4,5,6,7,8,9,0,-9,-7,-8,11,22,33,44,55,66,46]\n",
    "func_count_even(list_num)"
   ]
  }
 ],
 "metadata": {
  "kernelspec": {
   "display_name": "Python 3",
   "language": "python",
   "name": "python3"
  },
  "language_info": {
   "codemirror_mode": {
    "name": "ipython",
    "version": 3
   },
   "file_extension": ".py",
   "mimetype": "text/x-python",
   "name": "python",
   "nbconvert_exporter": "python",
   "pygments_lexer": "ipython3",
   "version": "3.12.0"
  }
 },
 "nbformat": 4,
 "nbformat_minor": 2
}
