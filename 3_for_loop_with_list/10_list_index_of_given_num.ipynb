{
 "cells": [
  {
   "cell_type": "code",
   "execution_count": null,
   "metadata": {},
   "outputs": [],
   "source": [
    "# Given a list of numbers, find out the index of another given number."
   ]
  },
  {
   "cell_type": "code",
   "execution_count": 1,
   "metadata": {},
   "outputs": [
    {
     "name": "stdout",
     "output_type": "stream",
     "text": [
      "Index of the 9.0 when it came 1  time is: 5\n",
      "Index of the 9.0 when it came 2  time is: 9\n"
     ]
    }
   ],
   "source": [
    "# Sample list...\n",
    "lst_num=[1,2,3,4,5,9,6,7,8.8,9.0,0,-8,-1]\n",
    "# User input- he needs indeces of the number in the list.\n",
    "ele_num=float(input(\"Enter a number:\"))\n",
    "# First check that what he has entered is in the list or not..\n",
    "if ele_num in lst_num:\n",
    "    count=-1# I started count from -1 because python start counting from zero..\n",
    "    i=1\n",
    "    # Itrate over the list with for loop..\n",
    "    for ele in lst_num:\n",
    "        count+=1\n",
    "        # If get elements from the list what user is seeking for print the corresponging count. \n",
    "        if ele==ele_num:\n",
    "            \n",
    "            print(\"Index of the\",ele_num,\"when it came\",i,\" time is:\",count)\n",
    "            i+=1\n",
    "else:\n",
    "    print(ele_num,\"is not present in the list_num\")"
   ]
  }
 ],
 "metadata": {
  "kernelspec": {
   "display_name": "Python 3",
   "language": "python",
   "name": "python3"
  },
  "language_info": {
   "codemirror_mode": {
    "name": "ipython",
    "version": 3
   },
   "file_extension": ".py",
   "mimetype": "text/x-python",
   "name": "python",
   "nbconvert_exporter": "python",
   "pygments_lexer": "ipython3",
   "version": "3.12.0"
  }
 },
 "nbformat": 4,
 "nbformat_minor": 2
}
