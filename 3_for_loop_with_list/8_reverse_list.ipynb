{
 "cells": [
  {
   "cell_type": "code",
   "execution_count": null,
   "metadata": {},
   "outputs": [],
   "source": [
    "# Given a list of numbers, create another list in reverse order."
   ]
  },
  {
   "cell_type": "code",
   "execution_count": 13,
   "metadata": {},
   "outputs": [
    {
     "name": "stdout",
     "output_type": "stream",
     "text": [
      "List in reversed order: [-9, -2, -1, 0, 9, 8, 7, 6, 5, 4, 3, 2, 1, 1]\n"
     ]
    }
   ],
   "source": [
    "# sample list..\n",
    "list_num1=[1,1,2,3,4,5,6,7,8,9,0,-1,-2,-9]\n",
    "# find length of the list_num1..\n",
    "len_list=0\n",
    "for i in list_num1:\n",
    "    len_list+=1\n",
    "\n",
    "reversed_lst=[]\n",
    "for x in range(len_list):\n",
    "    # Append element by itreting in the reversed order\n",
    "    reversed_lst.append(list_num1[-(x+1)])\n",
    "print(\"List in reversed order:\" ,reversed_lst)"
   ]
  }
 ],
 "metadata": {
  "kernelspec": {
   "display_name": "Python 3",
   "language": "python",
   "name": "python3"
  },
  "language_info": {
   "codemirror_mode": {
    "name": "ipython",
    "version": 3
   },
   "file_extension": ".py",
   "mimetype": "text/x-python",
   "name": "python",
   "nbconvert_exporter": "python",
   "pygments_lexer": "ipython3",
   "version": "3.12.0"
  }
 },
 "nbformat": 4,
 "nbformat_minor": 2
}
