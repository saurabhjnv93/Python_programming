{
 "cells": [
  {
   "cell_type": "code",
   "execution_count": null,
   "metadata": {},
   "outputs": [],
   "source": [
    "# Given a list of numbers, find the squares of all the numbers."
   ]
  },
  {
   "cell_type": "code",
   "execution_count": 1,
   "metadata": {},
   "outputs": [
    {
     "name": "stdout",
     "output_type": "stream",
     "text": [
      "New list of the squares of the element is: [1, 4, 9, 0, 81, 25, 1.44, 6.25]\n"
     ]
    }
   ],
   "source": [
    "list_num=[1,2,3,0,-9,-5,1.2,2.5]\n",
    "list_square=[]\n",
    "for ele in list_num:# Itrating one element of the list at a time.\n",
    "    square=ele**2 # Taking square...\n",
    "    list_square.append(square)# Appending square of the elements at their corresponding place...\n",
    "print(\"New list of the squares of the element is:\",list_square)"
   ]
  },
  {
   "cell_type": "code",
   "execution_count": 2,
   "metadata": {},
   "outputs": [],
   "source": [
    "# Define a function to give a list of the square of its elements..\n",
    "def func_ele_square(list_num):\n",
    "    list_square=[]\n",
    "    for ele in list_num:# Itrating one element of the list at a time.\n",
    "        square=ele**2 # Taking square...\n",
    "        list_square.append(square)# Appending square of the elements at their corresponding place...\n",
    "    return list_square"
   ]
  },
  {
   "cell_type": "code",
   "execution_count": 3,
   "metadata": {},
   "outputs": [
    {
     "data": {
      "text/plain": [
       "[1, 4, 9, 16, 25, 36, 49, 64, 81, 81, 0]"
      ]
     },
     "execution_count": 3,
     "metadata": {},
     "output_type": "execute_result"
    }
   ],
   "source": [
    "list_num1=[1,2,3,4,5,6,7,8,9,-9,0]\n",
    "func_ele_square(list_num1)"
   ]
  }
 ],
 "metadata": {
  "kernelspec": {
   "display_name": "Python 3",
   "language": "python",
   "name": "python3"
  },
  "language_info": {
   "codemirror_mode": {
    "name": "ipython",
    "version": 3
   },
   "file_extension": ".py",
   "mimetype": "text/x-python",
   "name": "python",
   "nbconvert_exporter": "python",
   "pygments_lexer": "ipython3",
   "version": "3.12.0"
  }
 },
 "nbformat": 4,
 "nbformat_minor": 2
}
