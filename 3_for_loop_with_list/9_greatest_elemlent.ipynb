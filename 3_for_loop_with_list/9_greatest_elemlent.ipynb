{
 "cells": [
  {
   "cell_type": "code",
   "execution_count": null,
   "metadata": {},
   "outputs": [],
   "source": [
    "# Given a list of numbers, find out the maximum number."
   ]
  },
  {
   "cell_type": "code",
   "execution_count": 4,
   "metadata": {},
   "outputs": [
    {
     "name": "stdout",
     "output_type": "stream",
     "text": [
      "Greatest number from the list is: 4\n"
     ]
    }
   ],
   "source": [
    "# Sample list..\n",
    "list_num=[-1,-2,-3,-4,-5,-6,-7,-8,-9,0,2,3,4]\n",
    "\n",
    "max_num=list_num[0]\n",
    "# Initiale a number to compare with.\n",
    "for x in list_num:\n",
    "    if x>max_num:# This block of code said that if element of the list is  from greater than what, we have taken before.\n",
    "        max_num=x # Replace it with that greater number.\n",
    "                    # And finally you will left with the greatest number.\n",
    "print(\"Greatest number from the list is:\",max_num)"
   ]
  },
  {
   "cell_type": "code",
   "execution_count": 5,
   "metadata": {},
   "outputs": [],
   "source": [
    "def greatest_num(list_num):\n",
    "    max_num=list_num[0]\n",
    "    # Initiale a number to compare with.\n",
    "    for x in list_num:\n",
    "        if x>max_num:# This block of code said that if element of the list is  from greater than what, we have taken before.\n",
    "            max_num=x # Replace it with that greater number.\n",
    "                        # And finally you will left with the greatest number.\n",
    "    return max_num"
   ]
  },
  {
   "cell_type": "code",
   "execution_count": 6,
   "metadata": {},
   "outputs": [
    {
     "data": {
      "text/plain": [
       "4"
      ]
     },
     "execution_count": 6,
     "metadata": {},
     "output_type": "execute_result"
    }
   ],
   "source": [
    "list_num=[-1,-2,-3,-4,-5,-6,-7,-8,-9,0,2,3,4]\n",
    "greatest_num(list_num)"
   ]
  }
 ],
 "metadata": {
  "kernelspec": {
   "display_name": "Python 3",
   "language": "python",
   "name": "python3"
  },
  "language_info": {
   "codemirror_mode": {
    "name": "ipython",
    "version": 3
   },
   "file_extension": ".py",
   "mimetype": "text/x-python",
   "name": "python",
   "nbconvert_exporter": "python",
   "pygments_lexer": "ipython3",
   "version": "3.12.0"
  }
 },
 "nbformat": 4,
 "nbformat_minor": 2
}
