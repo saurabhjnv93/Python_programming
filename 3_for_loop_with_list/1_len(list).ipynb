{
 "cells": [
  {
   "cell_type": "code",
   "execution_count": null,
   "metadata": {},
   "outputs": [],
   "source": [
    "# Given a list of numbers, find out its length."
   ]
  },
  {
   "cell_type": "code",
   "execution_count": 1,
   "metadata": {},
   "outputs": [
    {
     "name": "stdout",
     "output_type": "stream",
     "text": [
      "Length of the number is: 9\n"
     ]
    }
   ],
   "source": [
    "list_num=[1,2,3,4,5,6,7,0,-7]\n",
    "\n",
    "count=0# Initialise a counter \n",
    "for x in list_num:\n",
    "    count+=1 # Add 1 whenever for loop itrated a element of the list.\n",
    "print(\"Length of the number is:\",count)"
   ]
  }
 ],
 "metadata": {
  "kernelspec": {
   "display_name": "Python 3",
   "language": "python",
   "name": "python3"
  },
  "language_info": {
   "codemirror_mode": {
    "name": "ipython",
    "version": 3
   },
   "file_extension": ".py",
   "mimetype": "text/x-python",
   "name": "python",
   "nbconvert_exporter": "python",
   "pygments_lexer": "ipython3",
   "version": "3.12.0"
  }
 },
 "nbformat": 4,
 "nbformat_minor": 2
}
