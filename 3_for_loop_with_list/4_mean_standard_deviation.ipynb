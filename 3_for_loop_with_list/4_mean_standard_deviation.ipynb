{
 "cells": [
  {
   "cell_type": "code",
   "execution_count": null,
   "metadata": {},
   "outputs": [],
   "source": [
    "# Given a list of numbers, find out the mean and standard deviation."
   ]
  },
  {
   "cell_type": "code",
   "execution_count": 17,
   "metadata": {},
   "outputs": [
    {
     "name": "stdout",
     "output_type": "stream",
     "text": [
      "Mean of the given data is: 2.5\n",
      "Standard deviation of the given data is: 5.220153254455275\n"
     ]
    }
   ],
   "source": [
    "list_num_0=[1,2,3,4,5,6,7,8,9,0,-9,-6]\n",
    "count=0# Initialise count variable to get the length of the list.\n",
    "sum_num=0# It will all the elements and store total sum into (sum_num) variable...\n",
    "\n",
    "# calculating mean first...\n",
    "for ele1 in list_num_0:\n",
    "    sum_num+=ele1\n",
    "    count+=1\n",
    "mean=sum_num/count\n",
    "print(\"Mean of the given data is:\",mean)\n",
    "\n",
    "# Calculating standard deviation...\n",
    "sum_num2=0\n",
    "for ele2 in list_num_0:\n",
    "    a=(ele2-mean)**2\n",
    "    sum_num2+=a\n",
    "standard_deviation=(sum_num2/count)**0.5\n",
    "print(\"Standard deviation of the given data is:\",standard_deviation)"
   ]
  },
  {
   "cell_type": "markdown",
   "metadata": {},
   "source": [
    "# Function Method"
   ]
  },
  {
   "cell_type": "code",
   "execution_count": 18,
   "metadata": {},
   "outputs": [],
   "source": [
    "# Define a funtion to get mean and standard deviation..\n",
    "def func_mean_SD(list_data):\n",
    "    print(\"(Means,Standard deviation)\")\n",
    "    count=0# Initialise count variable to get the length of the list.\n",
    "    sum_num=0# It will all the elements and store total sum into (sum_num) variable...\n",
    "\n",
    "    # calculating mean first...\n",
    "    for ele1 in list_data:\n",
    "        sum_num+=ele1\n",
    "        count+=1\n",
    "    mean=sum_num/count\n",
    "    \n",
    "\n",
    "    # Calculating standard deviation...\n",
    "    sum_num2=0\n",
    "    for ele2 in list_data:\n",
    "        a=(ele2-mean)**2\n",
    "        sum_num2+=a\n",
    "    standard_deviation=(sum_num2/count)**0.5\n",
    "\n",
    "    return mean,standard_deviation"
   ]
  },
  {
   "cell_type": "code",
   "execution_count": 16,
   "metadata": {},
   "outputs": [
    {
     "name": "stdout",
     "output_type": "stream",
     "text": [
      "(Means,Standard deviation)\n"
     ]
    },
    {
     "data": {
      "text/plain": [
       "(2.5, 5.220153254455275)"
      ]
     },
     "execution_count": 16,
     "metadata": {},
     "output_type": "execute_result"
    }
   ],
   "source": [
    "list_num_0=[1,2,3,4,5,6,7,8,9,0,-9,-6]\n",
    "func_mean_SD(list_num_0)"
   ]
  }
 ],
 "metadata": {
  "kernelspec": {
   "display_name": "Python 3",
   "language": "python",
   "name": "python3"
  },
  "language_info": {
   "codemirror_mode": {
    "name": "ipython",
    "version": 3
   },
   "file_extension": ".py",
   "mimetype": "text/x-python",
   "name": "python",
   "nbconvert_exporter": "python",
   "pygments_lexer": "ipython3",
   "version": "3.12.0"
  }
 },
 "nbformat": 4,
 "nbformat_minor": 2
}
