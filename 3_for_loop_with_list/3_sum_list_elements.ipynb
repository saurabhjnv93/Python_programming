{
 "cells": [
  {
   "cell_type": "code",
   "execution_count": null,
   "metadata": {},
   "outputs": [],
   "source": [
    "# Given a list of numbers, find the sum of all the numbers."
   ]
  },
  {
   "cell_type": "code",
   "execution_count": 2,
   "metadata": {},
   "outputs": [
    {
     "name": "stdout",
     "output_type": "stream",
     "text": [
      "The sum of the elements from the lsit is: 6.2\n"
     ]
    }
   ],
   "source": [
    "list_num=[1,2,3,4,5,0,-9,-1,1.2]\n",
    "\n",
    "sum_num=0 # Initialise the sum variable to add elements of the list.\n",
    "for ele in list_num:\n",
    "    sum_num+=ele # Add elements one by one as for loop itrates elements.\n",
    "print(\"The sum of the elements from the list is:\",sum_num)"
   ]
  },
  {
   "cell_type": "code",
   "execution_count": 1,
   "metadata": {},
   "outputs": [],
   "source": [
    "# Define a function to give sum of all elements..\n",
    "def sum_ele(listNum):\n",
    "    sum_ele1=0 # Initialise the sum variable to add elements of the list.\n",
    "    for ele in list_num:\n",
    "        sum_ele1+=ele # Add elements one by one as for loop itrates elements.\n",
    "    return sum_ele1"
   ]
  },
  {
   "cell_type": "code",
   "execution_count": 2,
   "metadata": {},
   "outputs": [
    {
     "data": {
      "text/plain": [
       "9"
      ]
     },
     "execution_count": 2,
     "metadata": {},
     "output_type": "execute_result"
    }
   ],
   "source": [
    "list_num=[1,2,3,3,4,5,-9]\n",
    "sum_ele(list_num)"
   ]
  }
 ],
 "metadata": {
  "kernelspec": {
   "display_name": "Python 3",
   "language": "python",
   "name": "python3"
  },
  "language_info": {
   "codemirror_mode": {
    "name": "ipython",
    "version": 3
   },
   "file_extension": ".py",
   "mimetype": "text/x-python",
   "name": "python",
   "nbconvert_exporter": "python",
   "pygments_lexer": "ipython3",
   "version": "3.12.0"
  }
 },
 "nbformat": 4,
 "nbformat_minor": 2
}
