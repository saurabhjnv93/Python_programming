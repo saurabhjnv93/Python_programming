{
 "cells": [
  {
   "cell_type": "code",
   "execution_count": null,
   "metadata": {},
   "outputs": [],
   "source": [
    "# Given a list of numbers, find all the odd numbers in it."
   ]
  },
  {
   "cell_type": "code",
   "execution_count": 7,
   "metadata": {},
   "outputs": [
    {
     "name": "stdout",
     "output_type": "stream",
     "text": [
      "List of the even numbers: [3, 5, 7, 9, -9]\n"
     ]
    }
   ],
   "source": [
    "list_num1=[1.8,2,3,4,5,6,7,8,9,0,-9,-8,-6]\n",
    "\n",
    "list_odd=[] # Initialise a list to append all the even numbers.\n",
    "# Itrating elements of the list using for loop..\n",
    "for ele in list_num1:\n",
    "    if type(ele) is int:\n",
    "        if ele%2!=0:# Divide number by 2 to check it is odd.\n",
    "            list_odd.append(ele)\n",
    "print(\"List of the even numbers:\",list_odd)"
   ]
  }
 ],
 "metadata": {
  "kernelspec": {
   "display_name": "Python 3",
   "language": "python",
   "name": "python3"
  },
  "language_info": {
   "codemirror_mode": {
    "name": "ipython",
    "version": 3
   },
   "file_extension": ".py",
   "mimetype": "text/x-python",
   "name": "python",
   "nbconvert_exporter": "python",
   "pygments_lexer": "ipython3",
   "version": "3.12.0"
  }
 },
 "nbformat": 4,
 "nbformat_minor": 2
}
