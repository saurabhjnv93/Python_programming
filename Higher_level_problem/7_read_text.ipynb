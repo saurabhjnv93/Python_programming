{
 "cells": [
  {
   "cell_type": "markdown",
   "metadata": {},
   "source": [
    "7. Read in a text file and find the 10 most frequently occurring words in the file."
   ]
  },
  {
   "cell_type": "code",
   "execution_count": 1,
   "metadata": {},
   "outputs": [
    {
     "name": "stdout",
     "output_type": "stream",
     "text": [
      "List of the 10 most frequent occuring words is :  ['THE', 'OF', 'AND', 'A', 'WITH', 'IS', 'ITS', 'IN', \"INDIA'S\", 'AS']\n"
     ]
    }
   ],
   "source": [
    "# Open text file in python..\n",
    "f=open(\"note.txt\",\"rt\")\n",
    "\n",
    "# Create a list of the lines from the file..\n",
    "\n",
    "\n",
    "# Initialise list to append lines to create a new list of lines..\n",
    "new_list=[]\n",
    "# Itrate over file using for loop..\n",
    "for x in f:\n",
    "    # append pragrapgh as a element of the list after removing whitespace from the begining and end..\n",
    "    new_list.append(x.strip())\n",
    "    \n",
    "    \n",
    "# Create a list of the word from the list of lines..\n",
    "list2=[]\n",
    "for i in new_list:\n",
    "    # This condition will avoid my program to consider punctuation marks as a word..\n",
    "    if i!=' ' and i!='.' and i!='?' and i!='!' and i!=';' and i!=':' and i!=',':\n",
    "        # Initialise a empty string to get words.\n",
    "        str2=''\n",
    "        # This for loop itrate over the elements of list2(lines), and 'x' is the symbols of lines..\n",
    "        for x in i:\n",
    "            # Check if \"x\" is not a punctuation marks then add that to empty string..\n",
    "            if x!=' ' and x!='.' and x!='?' and x!='!' and x!=';' and x!=':' and x!=',':\n",
    "                str2=str2+x\n",
    "            # If code get a whitespace..\n",
    "            else: \n",
    "                # If word(str2) is itself not a empty string because we needs words  only..\n",
    "                if str2!='':\n",
    "                    # Append that word into the list of the words..\n",
    "                    list2.append(str2)\n",
    "                # After this reset the str2 to empty string to get a new word from the line..\n",
    "                str2=''\n",
    "\n",
    "\n",
    "# Create a dictionary with unique words as keys and their frequency as the values..\n",
    "\n",
    "# Initialise empty dictionary to store words and their frequency..\n",
    "dict2={}\n",
    "# Itrate over the list of the words..\n",
    "for word in list2:\n",
    "    # Remove all the white spaces and convert it into uppercase\n",
    "    # so the similar words don't counted again and again due to their whitespace and text style..\n",
    "    \n",
    "   \n",
    "    b=word.upper()\n",
    "    # Count variable to count same words..\n",
    "    count=0\n",
    "    # Again itrate over the list of words to compare..\n",
    "    for p  in list2:\n",
    "        # Remove whitespace and and convert word into uppercase..\n",
    "        \n",
    "      \n",
    "        n=p.upper()\n",
    "        # If the words are equal then increase count by one each time..\n",
    "        if b==n:\n",
    "            count+=1\n",
    "    # Created dictionary required..\n",
    "    dict2[b]=count\n",
    "\n",
    "\n",
    "\n",
    "# Make list of the values to the dictionary..\n",
    "value_lst=[]\n",
    "# Itrating using for loop for vauels of the dictionary for the dictionary..\n",
    "for value in dict2.values():\n",
    "    value_lst.append(value)\n",
    "# Sort this this list to arrange the values..\n",
    "value_lst.sort()\n",
    "# Reverse to get a list of frequencies of the word in ascending order..\n",
    "value_lst.reverse()\n",
    "\n",
    "\n",
    "# This code will give 10 most frequent words from the list..\n",
    "lst_freq_occuring_word=[]\n",
    "for i in range(10):# This is because we top 10 words..\n",
    "    # Loop to itrate the key and value of the new dictinary..\n",
    "    for key,value in dict2.items():\n",
    "        # Gives the keys corresponding to the most frequent occuring word..  \n",
    "        if value==value_lst[i]:\n",
    "            # This loop checked, if word is already appended in to required list. \n",
    "            # len!=10 because if words are with same frequency will increase the size of the list..\n",
    "            if key not in lst_freq_occuring_word and len(lst_freq_occuring_word)!=10:\n",
    "                # Append the keys and this will give most frequenty words..\n",
    "                 lst_freq_occuring_word.append(key)\n",
    "print(\"List of the 10 most frequent occuring words is : \",lst_freq_occuring_word)"
   ]
  }
 ],
 "metadata": {
  "kernelspec": {
   "display_name": "Python 3",
   "language": "python",
   "name": "python3"
  },
  "language_info": {
   "codemirror_mode": {
    "name": "ipython",
    "version": 3
   },
   "file_extension": ".py",
   "mimetype": "text/x-python",
   "name": "python",
   "nbconvert_exporter": "python",
   "pygments_lexer": "ipython3",
   "version": "3.12.0"
  }
 },
 "nbformat": 4,
 "nbformat_minor": 2
}
