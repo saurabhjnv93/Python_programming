{
 "cells": [
  {
   "cell_type": "markdown",
   "metadata": {},
   "source": [
    "2. Given a list of numbers, find out the median and mode."
   ]
  },
  {
   "cell_type": "code",
   "execution_count": 6,
   "metadata": {},
   "outputs": [
    {
     "name": "stdout",
     "output_type": "stream",
     "text": [
      "Data in arranged order is :  [-9, 0, 1, 1, 1, 1, 2, 2, 3, 3, 3, 3, 4, 5, 5, 7, 8, 9]\n",
      "Median of the given set of the values is : 3.0\n",
      "Mode of the given set of the values is : 1\n",
      "Mode of the given set of the values is : 3\n"
     ]
    }
   ],
   "source": [
    "# List of the random..\n",
    "list_num=[1,3,5,7,8,1,2,3,4,5,9,0,-9,1,2,3,1,3]\n",
    "\n",
    "# We need ordered data to find median and mode..\n",
    "\n",
    "# Arrange data into ascending order by using sort() function..\n",
    "list_num.sort()\n",
    "print(\"Data in arranged order is : \",list_num)\n",
    "# Length of the list..\n",
    "a=len(list_num)\n",
    "# If list contains even number of elements..\n",
    "if a%2==0: \n",
    "    # Median will average the average of the the both middle values..\n",
    "    median=(list_num[int(a/2)-1]+list_num[int(a/2)])/2\n",
    "# If list contains odd number of elements ..\n",
    "else: \n",
    "    # Middle number will be the median..\n",
    "    median=list_num[int((a+1)/2)]\n",
    "print(\"Median of the given set of the values is :\",median)\n",
    "\n",
    "# Create a frequency dictionary..\n",
    "dict_feq={}\n",
    "for i in list_num:\n",
    "    count=0\n",
    "    for x in list_num:\n",
    "        if i==x:\n",
    "           count+=1\n",
    "    # This is frequency dictionary..\n",
    "    dict_feq[i]=count\n",
    "\n",
    "# Ceate the list of the values(frequency) of the dictionary..\n",
    "list_freq=[]\n",
    "for freq in dict_feq.values():\n",
    "    list_freq.append(freq)\n",
    "\n",
    "# Greatest value from all values is.....\n",
    "max_freq=list_freq[0]\n",
    "for i in list_freq:\n",
    "    if i>max_freq:\n",
    "        max_freq=i\n",
    "# \"max_freq\"\n",
    "\n",
    "# Itrating using for loop for the numbers and frequency..\n",
    "for num,fr in dict_feq.items():\n",
    "    # If value(frequency) is equals to maximum number..\n",
    "    if fr==max_freq:\n",
    "        # Mode will the the key of that values..\n",
    "        mode=num\n",
    "        \n",
    "        # Mode can be multiple so I have to print mode inside for loop..\n",
    "        print(\"Mode of the given set of the values is :\",mode)"
   ]
  }
 ],
 "metadata": {
  "kernelspec": {
   "display_name": "Python 3",
   "language": "python",
   "name": "python3"
  },
  "language_info": {
   "codemirror_mode": {
    "name": "ipython",
    "version": 3
   },
   "file_extension": ".py",
   "mimetype": "text/x-python",
   "name": "python",
   "nbconvert_exporter": "python",
   "pygments_lexer": "ipython3",
   "version": "3.12.0"
  }
 },
 "nbformat": 4,
 "nbformat_minor": 2
}
