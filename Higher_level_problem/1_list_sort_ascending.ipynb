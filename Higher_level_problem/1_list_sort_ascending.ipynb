{
 "cells": [
  {
   "cell_type": "markdown",
   "metadata": {},
   "source": [
    "1.Given a list of numbers, sort it in ascending order."
   ]
  },
  {
   "cell_type": "code",
   "execution_count": 10,
   "metadata": {},
   "outputs": [
    {
     "name": "stdout",
     "output_type": "stream",
     "text": [
      "List sorted in ascending order is : [-9, -9, -5, -3, 0, 1, 2, 3, 5, 7, 8, 9]\n"
     ]
    }
   ],
   "source": [
    "# Sample list..\n",
    "lst_num=[9,5,7,8,1,2,3,0,-9,-9,-5,-3]\n",
    "\n",
    "# Itrate over the length of the list using for loop ..\n",
    "for i in range(len(lst_num)):\n",
    "    #Itrate from the (i+1) to length of the list using for loop..\n",
    "    for j in range(i+1,len(lst_num)):\n",
    "        # Compare numbers after itrating using index given by \"i\" and \"j\"..\n",
    "        if lst_num[i]>lst_num[j]:\n",
    "            # Storing the value into variable \n",
    "            a=lst_num[i]\n",
    "            b=lst_num[j]\n",
    "            # Swapping the values to get smaller value at first an greater value after smaller value.\n",
    "            lst_num[i]=b\n",
    "            lst_num[j]=a\n",
    "# Print the updated list..\n",
    "print(\"List sorted in ascending order is :\",lst_num)"
   ]
  }
 ],
 "metadata": {
  "kernelspec": {
   "display_name": "Python 3",
   "language": "python",
   "name": "python3"
  },
  "language_info": {
   "codemirror_mode": {
    "name": "ipython",
    "version": 3
   },
   "file_extension": ".py",
   "mimetype": "text/x-python",
   "name": "python",
   "nbconvert_exporter": "python",
   "pygments_lexer": "ipython3",
   "version": "3.12.0"
  }
 },
 "nbformat": 4,
 "nbformat_minor": 2
}
