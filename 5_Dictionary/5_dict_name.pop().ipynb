{
 "cells": [
  {
   "cell_type": "code",
   "execution_count": null,
   "metadata": {},
   "outputs": [],
   "source": [
    "# Remove a key from a dictionary:\n",
    "# dict_name.pop(key_name)\n",
    "# What does this function return?\n",
    "# Use pop to rename a key."
   ]
  },
  {
   "cell_type": "code",
   "execution_count": null,
   "metadata": {},
   "outputs": [],
   "source": [
    "# Babua....."
   ]
  },
  {
   "cell_type": "code",
   "execution_count": 2,
   "metadata": {},
   "outputs": [
    {
     "name": "stdout",
     "output_type": "stream",
     "text": [
      "0\n",
      "{'name': 'Saurabh', 'age': 18, 'country': 'India'}\n"
     ]
    }
   ],
   "source": [
    "# Sample dictionary..\n",
    "sample_dict={\"name\":\"Saurabh\",\"age\":18,\"country\":\"India\",\"salary\":0}\n",
    "print(sample_dict.pop(\"salary\"))\n",
    "# Pop funtion gives the value corresponding to the particular key that we want to remove.\n",
    "print(sample_dict)"
   ]
  },
  {
   "cell_type": "code",
   "execution_count": 3,
   "metadata": {},
   "outputs": [
    {
     "name": "stdout",
     "output_type": "stream",
     "text": [
      "{'name': 'Saurabh', 'age': 18, 'country': 'India', 'income': 0}\n"
     ]
    }
   ],
   "source": [
    "sample_dict={\"name\":\"Saurabh\",\"age\":18,\"country\":\"India\",\"salary\":0}\n",
    "income=sample_dict.pop(\"salary\")\n",
    "\n",
    "sample_dict[\"income\"]=income\n",
    "print(sample_dict)"
   ]
  }
 ],
 "metadata": {
  "kernelspec": {
   "display_name": "Python 3",
   "language": "python",
   "name": "python3"
  },
  "language_info": {
   "codemirror_mode": {
    "name": "ipython",
    "version": 3
   },
   "file_extension": ".py",
   "mimetype": "text/x-python",
   "name": "python",
   "nbconvert_exporter": "python",
   "pygments_lexer": "ipython3",
   "version": "3.12.0"
  }
 },
 "nbformat": 4,
 "nbformat_minor": 2
}
