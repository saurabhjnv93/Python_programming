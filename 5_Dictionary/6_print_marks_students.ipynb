{
 "cells": [
  {
   "cell_type": "code",
   "execution_count": null,
   "metadata": {},
   "outputs": [],
   "source": [
    "# Create a dictionary to store the total marks of 5 students in the class in 3 subjects (Course1, Course2, Course3). The keys must be the student names, and the values must be the list of marks. Create another list which has the course names in the same order as the marks are stored in the dictionary values. Now write a nested for loop to print the marks for each student exam wise.                                                                                                                       \n",
    "# Student1\n",
    "# Course1 marks : 82\n",
    "# Course2 marks : 84\n",
    "# Course3 marks : 72\n",
    "# Student2\n",
    "# Course1 marks : 87\n",
    "# Course2 marks : 83\n",
    "# Course3 marks : 78"
   ]
  },
  {
   "cell_type": "code",
   "execution_count": 1,
   "metadata": {},
   "outputs": [
    {
     "name": "stdout",
     "output_type": "stream",
     "text": [
      "utkarsh\n",
      "course1 : 57\n",
      "course2 : 89\n",
      "course3 : 99\n",
      "\n",
      "\n",
      "jamal\n",
      "course1 : 89\n",
      "course2 : 97\n",
      "course3 : 46\n",
      "\n",
      "\n",
      "satyam\n",
      "course1 : 34\n",
      "course2 : 67\n",
      "course3 : 90\n",
      "\n",
      "\n",
      "saurabh\n",
      "course1 : 12\n",
      "course2 : 67\n",
      "course3 : 98\n",
      "\n",
      "\n",
      "dhananjay\n",
      "course1 : 90\n",
      "course2 : 89\n",
      "course3 : 67\n",
      "\n",
      "\n"
     ]
    }
   ],
   "source": [
    "# Sample dictionary..\n",
    "mark_students={\"utkarsh\":[57,89,99],\"jamal\":[89,97,46],\"satyam\":[34,67,90],\"saurabh\":[12,67,98],\"dhananjay\":[90,89,67]}\n",
    "course_name=[\"course1\",\"course2\",\"course3\"]\n",
    "# Itrating using for loop from the dictionary..\n",
    "for key,value in mark_students.items():\n",
    "    print(key)  \n",
    "    # Itrating over the length of the course list..\n",
    "    for i in range(len(course_name)):\n",
    "        a=course_name[i]\n",
    "        b=value[i]\n",
    "        print(a,\":\",b)\n",
    "    print(\"\\n\")\n",
    "    \n"
   ]
  }
 ],
 "metadata": {
  "kernelspec": {
   "display_name": "Python 3",
   "language": "python",
   "name": "python3"
  },
  "language_info": {
   "codemirror_mode": {
    "name": "ipython",
    "version": 3
   },
   "file_extension": ".py",
   "mimetype": "text/x-python",
   "name": "python",
   "nbconvert_exporter": "python",
   "pygments_lexer": "ipython3",
   "version": "3.12.0"
  }
 },
 "nbformat": 4,
 "nbformat_minor": 2
}
