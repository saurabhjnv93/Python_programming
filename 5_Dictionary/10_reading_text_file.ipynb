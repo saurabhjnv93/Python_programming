{
 "cells": [
  {
   "cell_type": "code",
   "execution_count": null,
   "metadata": {},
   "outputs": [],
   "source": [
    "# Create a text file with one word in each line. The words can be repeated, i.e. the same word can come in more than one line. Read this text file in python, and create a dictionary where the key is the word and the value is the number of times it occurs in the text file."
   ]
  },
  {
   "cell_type": "code",
   "execution_count": 8,
   "metadata": {},
   "outputs": [
    {
     "name": "stdout",
     "output_type": "stream",
     "text": [
      "Required dictionary is:\n",
      " {'Saurabh': 3, 'Amrita': 8, 'Tirath': 1, 'Jamal': 2, 'Utkarsh': 2, 'Dhananjay': 1, 'Neha': 1, 'Vijaya': 1}\n"
     ]
    }
   ],
   "source": [
    "# read text file into python..\n",
    "f=open(\"text.txt\",\"r\")\n",
    "# Reading each lines of the text file..\n",
    "a=f.readlines()# It will return all the string as list stored into  a.\n",
    "dict_req={}\n",
    "# Itrate for elements in the a using for loop..\n",
    "for i in a:\n",
    "    # Remove whitespace and special characters from the elements..\n",
    "    \n",
    "    p=i.strip()\n",
    "    # Count the same elements..\n",
    "    count=0\n",
    "    for x in a:\n",
    "        \n",
    "        q=x.strip()\n",
    "        if p==q:\n",
    "            count+=1\n",
    "    # Creating the dictionary with 'word' as key and how many times it is repeated as a value.\n",
    "    dict_req[p]=count\n",
    "    \n",
    "    \n",
    "print(\"Required dictionary is:\\n\",dict_req)"
   ]
  },
  {
   "cell_type": "code",
   "execution_count": 10,
   "metadata": {},
   "outputs": [
    {
     "name": "stdout",
     "output_type": "stream",
     "text": [
      "{'Saurabh': 3, 'Amrita': 8, 'Tirath': 1, 'Jamal': 2, 'Utkarsh': 2, 'Dhananjay': 1, 'Neha': 1, 'Vijaya': 1}\n"
     ]
    }
   ],
   "source": [
    "# read text file into python..\n",
    "f=open(\"text.txt\",\"r\")\n",
    "list_words=[]\n",
    "# Create a list with the words in text file..\n",
    "for x in f:\n",
    "    \n",
    "    list_words.append(x.strip())\n",
    "# Count the same words and creat a dictionary with word as input and how many times it is repeated as values.\n",
    "dict1={}\n",
    "for c in list_words:\n",
    "    count=0\n",
    "    for x in list_words:\n",
    "        if c==x:\n",
    "            count+=1\n",
    "    dict1[c]=count\n",
    "print(dict1)"
   ]
  }
 ],
 "metadata": {
  "kernelspec": {
   "display_name": "Python 3",
   "language": "python",
   "name": "python3"
  },
  "language_info": {
   "codemirror_mode": {
    "name": "ipython",
    "version": 3
   },
   "file_extension": ".py",
   "mimetype": "text/x-python",
   "name": "python",
   "nbconvert_exporter": "python",
   "pygments_lexer": "ipython3",
   "version": "3.12.0"
  }
 },
 "nbformat": 4,
 "nbformat_minor": 2
}
