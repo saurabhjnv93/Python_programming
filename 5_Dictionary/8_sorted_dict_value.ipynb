{
 "cells": [
  {
   "cell_type": "code",
   "execution_count": null,
   "metadata": {},
   "outputs": [],
   "source": [
    "# Create a dictionary of your marks in various subjects and then sort it by its values first in descending order, and then in or ascending order. Do not use any inbuilt sorting functions."
   ]
  },
  {
   "cell_type": "code",
   "execution_count": 21,
   "metadata": {},
   "outputs": [
    {
     "name": "stdout",
     "output_type": "stream",
     "text": [
      "Dictionary with marks are in decending oreder {'Python': 29, 'English': 28, 'Maths': 25}\n",
      "Dictionary with marks are in ascending oreder {'Maths': 25, 'English': 28, 'Python': 29}\n"
     ]
    }
   ],
   "source": [
    "# Sample dictionary...\n",
    "my_marks_dict={\"English\":28,\"Python\":29,\"Maths\":25}\n",
    "# Create a list of marks using for loop..\n",
    "list_marks=[]\n",
    "for value in my_marks_dict.values():\n",
    "    list_marks.append(value)\n",
    "    \n",
    "    ## Decending order..\n",
    "    \n",
    "# This code will sort list of marks \n",
    "for i in range(len(list_marks)):\n",
    "    for j in range(i+1,len(my_marks_dict)):\n",
    "        if list_marks[i]<list_marks[j]:\n",
    "             # Exchange the values using their index..\n",
    "            p=list_marks[i]\n",
    "            q=list_marks[j]\n",
    "            list_marks[j]=p\n",
    "            list_marks[i]=q\n",
    "\n",
    "# Initialise a empty dictionary..\n",
    "new_dict={}\n",
    "# Itrate marks from the list of marks using for loop..\n",
    "for x in list_marks:\n",
    "    # Itrate key subject name and marks using for loop..\n",
    "    for key,value in my_marks_dict.items():\n",
    "        # compare the marks from the list to the marks itrated from dictionary ..\n",
    "        if x==my_marks_dict[key]:\n",
    "            # If both match add the key and corresponding value into the new dictionary.\n",
    "            new_dict[key]=x\n",
    "print(\"Dictionary with marks are in decending oreder\",new_dict)\n",
    "\n",
    "\n",
    "    # Ascending order..\n",
    "\n",
    "#copy the list of marks into a new to list to do change..\n",
    "\n",
    "# This code works same as Decending order's code works, but sort list of marks into Ascending order..\n",
    "list_marks2=list_marks.copy()\n",
    "for i in range(len(list_marks2)):\n",
    "    for j in range(i+1,len(my_marks_dict)):\n",
    "        if list_marks2[i]>list_marks2[j]:\n",
    "            p=list_marks2[i]\n",
    "            q=list_marks2[j]\n",
    "            list_marks2[j]=p\n",
    "            list_marks2[i]=q\n",
    "\n",
    "# Do the same thing and sort the dictionary into ascending order..\n",
    "new_dict={}\n",
    "for x in list_marks2:\n",
    "    for key,value in my_marks_dict.items():\n",
    "        if x==my_marks_dict[key]:\n",
    "            new_dict[key]=x\n",
    "            \n",
    "print(\"Dictionary with marks are in ascending oreder\",new_dict)\n"
   ]
  }
 ],
 "metadata": {
  "kernelspec": {
   "display_name": "Python 3",
   "language": "python",
   "name": "python3"
  },
  "language_info": {
   "codemirror_mode": {
    "name": "ipython",
    "version": 3
   },
   "file_extension": ".py",
   "mimetype": "text/x-python",
   "name": "python",
   "nbconvert_exporter": "python",
   "pygments_lexer": "ipython3",
   "version": "3.12.0"
  }
 },
 "nbformat": 4,
 "nbformat_minor": 2
}
