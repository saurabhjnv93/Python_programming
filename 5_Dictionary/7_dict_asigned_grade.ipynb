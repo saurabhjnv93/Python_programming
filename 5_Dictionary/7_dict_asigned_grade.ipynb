{
 "cells": [
  {
   "cell_type": "code",
   "execution_count": null,
   "metadata": {},
   "outputs": [],
   "source": [
    "# Write a for loop to create another dictionary from the above where the marks are replaced by grades. Above 80 is A grade, 60–80 is B grade, 40–60 is C grade, and below 40 is F. Create another dictionary to store the max and average marks for each student. Use this dictionary to compute the final CPI/CGPA of the student. Course1 is of 4 credits, Course2 of 10 credits, and Course3 of 6 credits. Store these credits in a list. Write this dictionary as a json file, and read it back into a new dictionary."
   ]
  },
  {
   "cell_type": "code",
   "execution_count": 1,
   "metadata": {},
   "outputs": [
    {
     "name": "stdout",
     "output_type": "stream",
     "text": [
      "Dictionary of the grads is: {'utkarsh': ['C', 'A', 'A'], 'jamal': ['A', 'A', 'C'], 'satyam': ['F', 'B', 'A'], 'saurabh': ['F', 'B', 'A'], 'dhananjay': ['A', 'A', 'B']}\n",
      "Dictionary of the maximum marks and average is: {'utkarsh': {'max marks': 99, 'average': 81.66666666666667}, 'jamal': {'max marks': 97, 'average': 77.33333333333333}, 'satyam': {'max marks': 90, 'average': 63.666666666666664}, 'saurabh': {'max marks': 98, 'average': 59.0}, 'dhananjay': {'max marks': 99, 'average': 85.33333333333333}}\n"
     ]
    }
   ],
   "source": [
    "# Sample dicitonary\n",
    "mark_students={\"utkarsh\":[57,89,99],\"jamal\":[89,97,46],\"satyam\":[34,67,90],\"saurabh\":[12,67,98],\"dhananjay\":[90,99,67]}\n",
    "grade_dict={} # initiate a dictionary to store grade of each course.\n",
    "max_ave_dict={} # Initiate a dictionry to store maximum marks and average.\n",
    "\n",
    "# Itrate keys and values by using for loop.\n",
    "for key,value in mark_students.items():\n",
    "    grade_list=[] # Store grades in the list corresponding to the marks.\n",
    "    max_ave={}# crate a list to store maximum marks and average marks.\n",
    "    \n",
    "    sum_marks=0\n",
    "    max_marks=value[0]\n",
    "    \n",
    "    for marks in value:\n",
    "        # This is to get maximum marks and sum of marks to calculate its average marks.\n",
    "        sum_marks+=marks\n",
    "        if marks>max_marks:\n",
    "            max_marks=marks\n",
    "        # This block of code will assign grades corresponding to the marks of particular course.\n",
    "        if marks>80:\n",
    "            grade=\"A\"\n",
    "        elif marks>60:\n",
    "            grade='B'\n",
    "        elif marks>40:\n",
    "            grade=\"C\"\n",
    "        else:\n",
    "            grade=\"F\"\n",
    "        grade_list.append(grade)# List of grade in each course.\n",
    "        # Average marks.\n",
    "        ave_mark=sum_marks/len(value)\n",
    "        # Maximum marks and average into a new dictionary.\n",
    "        max_ave[\"max marks\"]=max_marks\n",
    "        max_ave[\"average\"]=ave_mark\n",
    "    # Dictionary of grades.\n",
    "    grade_dict[key]=grade_list\n",
    "    # Dictionary of maximum marks and average marks.\n",
    "    max_ave_dict[key]=max_ave\n",
    "print(\"Dictionary of the grads is:\",grade_dict)\n",
    "print(\"Dictionary of the maximum marks and average is:\",max_ave_dict)"
   ]
  },
  {
   "cell_type": "code",
   "execution_count": 2,
   "metadata": {},
   "outputs": [
    {
     "name": "stdout",
     "output_type": "stream",
     "text": [
      "Dictionary of the CPI or CGPA is: {'utkarsh': 8.6, 'jamal': 8.4, 'styam': 7.5, 'saurabh': 7.5, 'dhananjay': 8.7}\n"
     ]
    }
   ],
   "source": [
    "# Copy dictionry of the grades from the above code.\n",
    "dict_grade=grade_dict.copy()\n",
    "# list of credits of the corresponding course.\n",
    "credits=[4,10,6]\n",
    "# Dictionary of the marks corresponding grades.\n",
    "grade_num={\"O\":10,\"A\":9,\"B\":8,\"C\":7,\"F\":4}\n",
    "\n",
    "CPI_dict={}\n",
    "for key,value in dict_grade.items():\n",
    "    i=0\n",
    "    sum_total_credit=0\n",
    "    sum_credit=0\n",
    "    for grade in value:\n",
    "    # Calculating grades from the formula..\n",
    "        grade_marks=grade_num[grade]\n",
    "        sum_credit+=(grade_marks*credits[i])\n",
    "        sum_total_credit+=credits[i]\n",
    "        i+=1\n",
    "    CPI_or_CGPA=sum_credit/sum_total_credit\n",
    "    # Adding CPI into the new dictionary with corresponding students..\n",
    "    CPI_dict[key]=CPI_or_CGPA\n",
    "print(\"Dictionary of the CPI or CGPA is:\",CPI_dict)"
   ]
  },
  {
   "cell_type": "code",
   "execution_count": 16,
   "metadata": {},
   "outputs": [
    {
     "name": "stdout",
     "output_type": "stream",
     "text": [
      "{\"utkarsh\": 8.6, \"jamal\": 8.4, \"styam\": 7.5, \"saurabh\": 7.5, \"dhananjay\": 8.7}\n"
     ]
    }
   ],
   "source": [
    "# Import json module..\n",
    "import json\n",
    "# Read dictionary as a json file..\n",
    "y=json.dumps(CPI_dict)\n",
    "print(y)"
   ]
  },
  {
   "cell_type": "code",
   "execution_count": 15,
   "metadata": {},
   "outputs": [
    {
     "name": "stdout",
     "output_type": "stream",
     "text": [
      "{'utkarsh': 8.6, 'jamal': 8.4, 'styam': 7.5, 'saurabh': 7.5, 'dhananjay': 8.7}\n"
     ]
    }
   ],
   "source": [
    "# Import json module..\n",
    "import json\n",
    "# Read json file as a dictionary..\n",
    "x=json.loads(y)\n",
    "print(x)"
   ]
  }
 ],
 "metadata": {
  "kernelspec": {
   "display_name": "Python 3",
   "language": "python",
   "name": "python3"
  },
  "language_info": {
   "codemirror_mode": {
    "name": "ipython",
    "version": 3
   },
   "file_extension": ".py",
   "mimetype": "text/x-python",
   "name": "python",
   "nbconvert_exporter": "python",
   "pygments_lexer": "ipython3",
   "version": "3.12.0"
  }
 },
 "nbformat": 4,
 "nbformat_minor": 2
}
