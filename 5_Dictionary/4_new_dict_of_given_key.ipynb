{
 "cells": [
  {
   "cell_type": "code",
   "execution_count": null,
   "metadata": {},
   "outputs": [],
   "source": [
    "# Create a new dictionary so that it only has the keys mentioned in another list\n",
    "# sample_dict = { “name”: “Kelly”, “age”: 25, “salary”: 8000, “city”: “New york”}\n",
    "# # Keys to extract\n",
    "# keys = [“name”, “salary”]"
   ]
  },
  {
   "cell_type": "code",
   "execution_count": 1,
   "metadata": {},
   "outputs": [
    {
     "name": "stdout",
     "output_type": "stream",
     "text": [
      "New dictionary: {'name': 'Kelly', 'salary': 8000}\n"
     ]
    }
   ],
   "source": [
    "# Sample dictionary..\n",
    "sample_dict={\"name\":\"Kelly\",\"age\":25,\"salary\":8000,\"city\":\"New york\"}\n",
    "# extract key_value pair keys=[\"name\",\"salary\"]\n",
    "keys=[\"name\",\"salary\"]\n",
    "new_dict={}\n",
    "# Itrating key and value using for loop..\n",
    "for key,value in sample_dict.items():\n",
    "    if key in keys:\n",
    "        new_dict[key]=value\n",
    "print(\"New dictionary:\",new_dict)"
   ]
  }
 ],
 "metadata": {
  "kernelspec": {
   "display_name": "Python 3",
   "language": "python",
   "name": "python3"
  },
  "language_info": {
   "codemirror_mode": {
    "name": "ipython",
    "version": 3
   },
   "file_extension": ".py",
   "mimetype": "text/x-python",
   "name": "python",
   "nbconvert_exporter": "python",
   "pygments_lexer": "ipython3",
   "version": "3.12.0"
  }
 },
 "nbformat": 4,
 "nbformat_minor": 2
}
