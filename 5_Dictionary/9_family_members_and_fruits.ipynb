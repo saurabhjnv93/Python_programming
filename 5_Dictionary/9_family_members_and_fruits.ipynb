{
 "cells": [
  {
   "cell_type": "code",
   "execution_count": null,
   "metadata": {},
   "outputs": [],
   "source": [
    "# Create a dictionary whose keys are the names of your family members and friends, and the values are the list of fruits they like to eat. Now if the user gives a fruit as input, the code should print the list of names who like this fruit. Write another code to print the list of people who do not like this fruit.Using this dictionary as input, write a code to make a consolidated list of all the fruit names present in the values of various keys. This list should not have any duplicate entries. Do not use the set() function."
   ]
  },
  {
   "cell_type": "code",
   "execution_count": 13,
   "metadata": {},
   "outputs": [
    {
     "name": "stdout",
     "output_type": "stream",
     "text": [
      "Members who likes dragonfruits are: []\n",
      "Members who don't likes dragonfruits are: ['Mayank', 'Minakshi', 'Saurabh', 'Shivam']\n",
      "Consolidated list of fruits: ['mango', 'apple', 'banana', 'pomegranate', 'pineapple', 'guava', 'orange']\n"
     ]
    }
   ],
   "source": [
    "#Sample dictionary \n",
    "dict_fruits={\"Mayank\":[\"mango\",\"apple\",\"banana\",\"pomegranate\"],\"Minakshi\":[\"mango\",\"banana\",\"pineapple\",\"guava\"],\"Saurabh\":[\"orange\",\"apple\",\"banana\"],\"Shivam\":[\"apple\",\"pomegranate\"]}\n",
    "# Initialise required list ( list for members who like a give fruits, list for who don't like and list of consolidated fruits.)\n",
    "list_mem_like_fruit=[]\n",
    "list_mem_notLike_fruit=[]\n",
    "lst_frts=[]\n",
    "# User input....\n",
    "user_input=input(\"Enter a name of fruit:\")\n",
    "# Itrating key and values from the sample list..\n",
    "for key,value in dict_fruits.items():\n",
    "    #Creating list of persons who like fruits..\n",
    "    if user_input in value:\n",
    "        list_mem_like_fruit.append(key)\n",
    "    # Creating list of persong who don't like that particular fruits.\n",
    "    else:\n",
    "         list_mem_notLike_fruit.append(key)\n",
    "    # Creating consolidated list of all type of fruits  \n",
    "    for fruits in value:\n",
    "         if fruits not in lst_frts:\n",
    "             lst_frts.append(fruits)   \n",
    "    \n",
    "print(\"Members who likes\",user_input,\"are:\",list_mem_like_fruit)\n",
    "        \n",
    "print(\"Members who don't likes\",user_input,\"are:\",list_mem_notLike_fruit)\n",
    "\n",
    "print(\"Consolidated list of fruits:\",lst_frts)\n",
    "    "
   ]
  },
  {
   "cell_type": "code",
   "execution_count": null,
   "metadata": {},
   "outputs": [],
   "source": [
    "# Using this dictionary as input, write a code to make a consolidated list of all the fruit names present in the values of various keys. This list should not have any duplicate entries. Do not use the set() function."
   ]
  },
  {
   "cell_type": "code",
   "execution_count": 19,
   "metadata": {},
   "outputs": [],
   "source": [
    "# Function to give use consolidate list of fruits without repeatation..\n",
    "def consolidate_listFunc(input_dict):\n",
    "    new_list_fruits=[]\n",
    "    print(\"Consolidated list of fruits is:\")\n",
    "    # Itrating key and value from the input dictionary.\n",
    "    for key,value in input_dict.items():\n",
    "        # Itrating fruits form the value of the dictionary using for loop.\n",
    "        for fruit in value:\n",
    "            # Checking if fruit is present into the new list..\n",
    "            if fruit not in new_list_fruits:\n",
    "                new_list_fruits.append(fruit)\n",
    "    return new_list_fruits"
   ]
  },
  {
   "cell_type": "code",
   "execution_count": 20,
   "metadata": {},
   "outputs": [
    {
     "name": "stdout",
     "output_type": "stream",
     "text": [
      "Consolidated list of fruits is:\n"
     ]
    },
    {
     "data": {
      "text/plain": [
       "['mango', 'apple', 'banana', 'pomegranate', 'pineapple', 'guava', 'orange']"
      ]
     },
     "execution_count": 20,
     "metadata": {},
     "output_type": "execute_result"
    }
   ],
   "source": [
    "a=dict_fruits.copy()\n",
    "consolidate_listFunc(a)"
   ]
  }
 ],
 "metadata": {
  "kernelspec": {
   "display_name": "Python 3",
   "language": "python",
   "name": "python3"
  },
  "language_info": {
   "codemirror_mode": {
    "name": "ipython",
    "version": 3
   },
   "file_extension": ".py",
   "mimetype": "text/x-python",
   "name": "python",
   "nbconvert_exporter": "python",
   "pygments_lexer": "ipython3",
   "version": "3.12.0"
  }
 },
 "nbformat": 4,
 "nbformat_minor": 2
}
