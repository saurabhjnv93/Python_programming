{
 "cells": [
  {
   "cell_type": "code",
   "execution_count": null,
   "metadata": {},
   "outputs": [],
   "source": [
    "# Check if a key exists in a dictionary:\n",
    "# sample_dict = {‘a’: 100, ‘b’: 200, ‘c’: 300}\n",
    "# key_needed = ‘d’\n",
    "# Check if a value exists in a dictionary:\n",
    "# sample_dict = {‘a’: 100, ‘b’: 200, ‘c’: 300}\n",
    "# value_needed = 200"
   ]
  },
  {
   "cell_type": "code",
   "execution_count": 1,
   "metadata": {},
   "outputs": [
    {
     "name": "stdout",
     "output_type": "stream",
     "text": [
      "No, d is not present in the keys of the sample dictionary.\n",
      "Yes, 200 is present in the values of the sample dictionary.\n"
     ]
    }
   ],
   "source": [
    "sample_dict={\"a\":100,\"b\":200,\"c\":300}\n",
    "# key_needed=\"d\"\n",
    "# value_needed=\"200\"\n",
    "key_needed=\"d\"\n",
    "value_needed=200\n",
    "# Checking for the key needed ..\n",
    "if key_needed in sample_dict.keys():\n",
    "    print(\"Yes,\",key_needed,\"is present in the keys of the sample dictionary.\")\n",
    "else:\n",
    "    print(\"No,\",key_needed,\"is not present in the keys of the sample dictionary.\")\n",
    "# Checking for the value needed..\n",
    "if value_needed in sample_dict.values():\n",
    "    print(\"Yes,\",value_needed,\"is present in the values of the sample dictionary.\")\n",
    "else:\n",
    "    print(\"No,\",value_needed,\"is present in the values of the sample dictionary.\")\n"
   ]
  }
 ],
 "metadata": {
  "kernelspec": {
   "display_name": "Python 3",
   "language": "python",
   "name": "python3"
  },
  "language_info": {
   "codemirror_mode": {
    "name": "ipython",
    "version": 3
   },
   "file_extension": ".py",
   "mimetype": "text/x-python",
   "name": "python",
   "nbconvert_exporter": "python",
   "pygments_lexer": "ipython3",
   "version": "3.12.0"
  }
 },
 "nbformat": 4,
 "nbformat_minor": 2
}
