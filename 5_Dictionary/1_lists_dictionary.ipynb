{
 "cells": [
  {
   "cell_type": "code",
   "execution_count": null,
   "metadata": {},
   "outputs": [],
   "source": [
    "# Convert these two lists into a dictionary. Take the keys from the first list, and values from the second one.\n",
    "# keys = [‘Ten’, ‘Twenty’, ‘Thirty’]\n",
    "# values = [10, 20, 30]"
   ]
  },
  {
   "cell_type": "code",
   "execution_count": 3,
   "metadata": {},
   "outputs": [
    {
     "name": "stdout",
     "output_type": "stream",
     "text": [
      "Required dictionary is: {'Ten': 10, 'Twenty': 20, 'Thirty': 30}\n"
     ]
    }
   ],
   "source": [
    "keys = ['Ten','Twenty','Thirty']\n",
    "values = [10, 20, 30]\n",
    "dict_required={}\n",
    "# Getting length of the both lists so that I can compare if every key have a value or not.\n",
    "keys_len=len(keys)\n",
    "values_len=len(values)\n",
    "\n",
    "if keys_len==values_len:# If keys_len==values_len this is the only condition when i can made dictionary out of given keys and values.\n",
    "    for i in range(keys_len):\n",
    "        dict_required[keys[i]]=values[i]# Assigning keys and values of my new dictionary.\n",
    "    print(\"Required dictionary is:\",dict_required)\n",
    "else:# If keys_len!=values_len.\n",
    "    print(\"You can't create a dictionary, if numbers of keys are not equal to numbers of values.\")\n",
    "    "
   ]
  }
 ],
 "metadata": {
  "kernelspec": {
   "display_name": "Python 3",
   "language": "python",
   "name": "python3"
  },
  "language_info": {
   "codemirror_mode": {
    "name": "ipython",
    "version": 3
   },
   "file_extension": ".py",
   "mimetype": "text/x-python",
   "name": "python",
   "nbconvert_exporter": "python",
   "pygments_lexer": "ipython3",
   "version": "3.12.0"
  }
 },
 "nbformat": 4,
 "nbformat_minor": 2
}
